{
 "cells": [
  {
   "cell_type": "code",
   "execution_count": 497,
   "metadata": {},
   "outputs": [],
   "source": [
    "#Independent Data Science Project Part 1 by Zara Clacken\n",
    "#Data Source: \"Children in single-parent families by race in the United States\", Kids Count Data Center,  https://bit.ly/2O5A5tZ\n",
    "#Research Question: What percentage of the total population of children living in single parent homes during the 2010s in the United States\n",
    "#does each race make up? "
   ]
  },
  {
   "cell_type": "code",
   "execution_count": 498,
   "metadata": {},
   "outputs": [],
   "source": [
    "#Import Packages\n",
    "import warnings\n",
    "warnings.filterwarnings('ignore')  \n",
    "import numpy as np\n",
    "import pandas as pd "
   ]
  },
  {
   "cell_type": "code",
   "execution_count": 499,
   "metadata": {
    "scrolled": true
   },
   "outputs": [
    {
     "data": {
      "text/html": [
       "<div>\n",
       "<style scoped>\n",
       "    .dataframe tbody tr th:only-of-type {\n",
       "        vertical-align: middle;\n",
       "    }\n",
       "\n",
       "    .dataframe tbody tr th {\n",
       "        vertical-align: top;\n",
       "    }\n",
       "\n",
       "    .dataframe thead th {\n",
       "        text-align: right;\n",
       "    }\n",
       "</style>\n",
       "<table border=\"1\" class=\"dataframe\">\n",
       "  <thead>\n",
       "    <tr style=\"text-align: right;\">\n",
       "      <th></th>\n",
       "      <th>LocationType</th>\n",
       "      <th>Location</th>\n",
       "      <th>Race</th>\n",
       "      <th>TimeFrame</th>\n",
       "      <th>DataFormat</th>\n",
       "      <th>Data</th>\n",
       "    </tr>\n",
       "  </thead>\n",
       "  <tbody>\n",
       "    <tr>\n",
       "      <th>0</th>\n",
       "      <td>Nation</td>\n",
       "      <td>United States</td>\n",
       "      <td>American Indian</td>\n",
       "      <td>2005</td>\n",
       "      <td>Percent</td>\n",
       "      <td>0.49</td>\n",
       "    </tr>\n",
       "    <tr>\n",
       "      <th>1</th>\n",
       "      <td>Nation</td>\n",
       "      <td>United States</td>\n",
       "      <td>Asian and Pacific Islander</td>\n",
       "      <td>2005</td>\n",
       "      <td>Percent</td>\n",
       "      <td>0.17</td>\n",
       "    </tr>\n",
       "    <tr>\n",
       "      <th>2</th>\n",
       "      <td>Nation</td>\n",
       "      <td>United States</td>\n",
       "      <td>Black or African American</td>\n",
       "      <td>2005</td>\n",
       "      <td>Percent</td>\n",
       "      <td>0.65</td>\n",
       "    </tr>\n",
       "    <tr>\n",
       "      <th>3</th>\n",
       "      <td>Nation</td>\n",
       "      <td>United States</td>\n",
       "      <td>Hispanic or Latino</td>\n",
       "      <td>2005</td>\n",
       "      <td>Percent</td>\n",
       "      <td>0.36</td>\n",
       "    </tr>\n",
       "    <tr>\n",
       "      <th>4</th>\n",
       "      <td>Nation</td>\n",
       "      <td>United States</td>\n",
       "      <td>Non-Hispanic White</td>\n",
       "      <td>2005</td>\n",
       "      <td>Percent</td>\n",
       "      <td>0.23</td>\n",
       "    </tr>\n",
       "    <tr>\n",
       "      <th>...</th>\n",
       "      <td>...</td>\n",
       "      <td>...</td>\n",
       "      <td>...</td>\n",
       "      <td>...</td>\n",
       "      <td>...</td>\n",
       "      <td>...</td>\n",
       "    </tr>\n",
       "    <tr>\n",
       "      <th>11077</th>\n",
       "      <td>Territory</td>\n",
       "      <td>Puerto Rico</td>\n",
       "      <td>Non-Hispanic White</td>\n",
       "      <td>2019</td>\n",
       "      <td>Number</td>\n",
       "      <td>S</td>\n",
       "    </tr>\n",
       "    <tr>\n",
       "      <th>11078</th>\n",
       "      <td>Territory</td>\n",
       "      <td>Puerto Rico</td>\n",
       "      <td>Hispanic or Latino</td>\n",
       "      <td>2019</td>\n",
       "      <td>Number</td>\n",
       "      <td>341000</td>\n",
       "    </tr>\n",
       "    <tr>\n",
       "      <th>11079</th>\n",
       "      <td>Territory</td>\n",
       "      <td>Puerto Rico</td>\n",
       "      <td>Black or African American</td>\n",
       "      <td>2019</td>\n",
       "      <td>Number</td>\n",
       "      <td>44000</td>\n",
       "    </tr>\n",
       "    <tr>\n",
       "      <th>11080</th>\n",
       "      <td>Territory</td>\n",
       "      <td>Puerto Rico</td>\n",
       "      <td>Asian and Pacific Islander</td>\n",
       "      <td>2019</td>\n",
       "      <td>Number</td>\n",
       "      <td>S</td>\n",
       "    </tr>\n",
       "    <tr>\n",
       "      <th>11081</th>\n",
       "      <td>Territory</td>\n",
       "      <td>Puerto Rico</td>\n",
       "      <td>American Indian</td>\n",
       "      <td>2019</td>\n",
       "      <td>Number</td>\n",
       "      <td>S</td>\n",
       "    </tr>\n",
       "  </tbody>\n",
       "</table>\n",
       "<p>11082 rows × 6 columns</p>\n",
       "</div>"
      ],
      "text/plain": [
       "      LocationType       Location                        Race  TimeFrame  \\\n",
       "0           Nation  United States             American Indian       2005   \n",
       "1           Nation  United States  Asian and Pacific Islander       2005   \n",
       "2           Nation  United States   Black or African American       2005   \n",
       "3           Nation  United States          Hispanic or Latino       2005   \n",
       "4           Nation  United States          Non-Hispanic White       2005   \n",
       "...            ...            ...                         ...        ...   \n",
       "11077    Territory    Puerto Rico          Non-Hispanic White       2019   \n",
       "11078    Territory    Puerto Rico          Hispanic or Latino       2019   \n",
       "11079    Territory    Puerto Rico   Black or African American       2019   \n",
       "11080    Territory    Puerto Rico  Asian and Pacific Islander       2019   \n",
       "11081    Territory    Puerto Rico             American Indian       2019   \n",
       "\n",
       "      DataFormat    Data  \n",
       "0        Percent    0.49  \n",
       "1        Percent    0.17  \n",
       "2        Percent    0.65  \n",
       "3        Percent    0.36  \n",
       "4        Percent    0.23  \n",
       "...          ...     ...  \n",
       "11077     Number       S  \n",
       "11078     Number  341000  \n",
       "11079     Number   44000  \n",
       "11080     Number       S  \n",
       "11081     Number       S  \n",
       "\n",
       "[11082 rows x 6 columns]"
      ]
     },
     "execution_count": 499,
     "metadata": {},
     "output_type": "execute_result"
    }
   ],
   "source": [
    "#Import Raw Data Set\n",
    "singleparentkidsraw = pd.read_excel('C:\\\\Users\\zara\\Documents/Data Science Portfolio_Zara Clacken/Raw Data/Children in single-parent families by race.xlsx') \n",
    "singleparentkidsraw"
   ]
  },
  {
   "cell_type": "code",
   "execution_count": 500,
   "metadata": {},
   "outputs": [
    {
     "data": {
      "text/plain": [
       "Index(['LocationType', 'Location', 'Race', 'TimeFrame', 'DataFormat', 'Data'], dtype='object')"
      ]
     },
     "execution_count": 500,
     "metadata": {},
     "output_type": "execute_result"
    }
   ],
   "source": [
    "#Column Names?\n",
    "singleparentkidsraw.columns\n",
    "\n",
    "\n"
   ]
  },
  {
   "cell_type": "code",
   "execution_count": 501,
   "metadata": {},
   "outputs": [
    {
     "data": {
      "text/plain": [
       "11082"
      ]
     },
     "execution_count": 501,
     "metadata": {},
     "output_type": "execute_result"
    }
   ],
   "source": [
    "#Number of Rows?\n",
    "len(singleparentkidsraw)"
   ]
  },
  {
   "cell_type": "markdown",
   "metadata": {},
   "source": [
    "---"
   ]
  },
  {
   "cell_type": "code",
   "execution_count": 502,
   "metadata": {},
   "outputs": [
    {
     "data": {
      "text/plain": [
       "Index(['LocationType', 'Location', 'Race', 'Year', 'DataFormat',\n",
       "       'TotalChildren'],\n",
       "      dtype='object')"
      ]
     },
     "execution_count": 502,
     "metadata": {},
     "output_type": "execute_result"
    }
   ],
   "source": [
    "#Change Column Names\n",
    "singleparentkidsraw.columns = ['LocationType', 'Location', 'Race', 'Year', 'DataFormat', 'TotalChildren']\n",
    "singleparentkidsraw.columns"
   ]
  },
  {
   "cell_type": "markdown",
   "metadata": {},
   "source": [
    "---"
   ]
  },
  {
   "cell_type": "code",
   "execution_count": 503,
   "metadata": {},
   "outputs": [
    {
     "data": {
      "text/plain": [
       "array(['Nation', 'State', 'City', 'Territory'], dtype=object)"
      ]
     },
     "execution_count": 503,
     "metadata": {},
     "output_type": "execute_result"
    }
   ],
   "source": [
    "#What are the Unique Values of each Column?\n",
    "singleparentkidsraw.LocationType.unique()     "
   ]
  },
  {
   "cell_type": "code",
   "execution_count": 504,
   "metadata": {},
   "outputs": [
    {
     "data": {
      "text/plain": [
       "array(['Percent', 'Number'], dtype=object)"
      ]
     },
     "execution_count": 504,
     "metadata": {},
     "output_type": "execute_result"
    }
   ],
   "source": [
    "singleparentkidsraw.DataFormat.unique()    "
   ]
  },
  {
   "cell_type": "code",
   "execution_count": 505,
   "metadata": {},
   "outputs": [
    {
     "data": {
      "text/plain": [
       "array(['American Indian', 'Asian and Pacific Islander',\n",
       "       'Black or African American', 'Hispanic or Latino',\n",
       "       'Non-Hispanic White', 'Two or more races', 'Total'], dtype=object)"
      ]
     },
     "execution_count": 505,
     "metadata": {},
     "output_type": "execute_result"
    }
   ],
   "source": [
    "singleparentkidsraw.Race.unique()   "
   ]
  },
  {
   "cell_type": "code",
   "execution_count": 506,
   "metadata": {},
   "outputs": [
    {
     "data": {
      "text/plain": [
       "array([2005, 2006, 2007, 2008, 2013, 2018, 2009, 2010, 2015, 2011, 2012,\n",
       "       2014, 2016, 2017, 2019], dtype=int64)"
      ]
     },
     "execution_count": 506,
     "metadata": {},
     "output_type": "execute_result"
    }
   ],
   "source": [
    "singleparentkidsraw.Year.unique()   "
   ]
  },
  {
   "cell_type": "markdown",
   "metadata": {},
   "source": [
    "---"
   ]
  },
  {
   "cell_type": "code",
   "execution_count": null,
   "metadata": {
    "scrolled": true
   },
   "outputs": [],
   "source": [
    "#Drop LocationType, Location, DataFormat, and Data Columns\n",
    "#Filter Data Set to show the years 2010-2019 \n",
    "\n",
    "YearFilter1 = singleparentkidsraw.Year > 2009  \n",
    "YearFilter2 = singleparentkidsraw.Year < 2020\n",
    "FormatFilter = singleparentkidsraw.DataFormat == 'Number'\n",
    "LocationFilter = singleparentkidsraw.LocationType == 'Nation'\n",
    "TotalFilter = singleparentkidsraw.Race != 'Total'\n",
    "\n",
    "singleparentkids = singleparentkidsraw[YearFilter1][YearFilter2][FormatFilter][LocationFilter][TotalFilter].drop(['LocationType','Location','DataFormat'], axis = 1)\n",
    "\n",
    "singleparentkids.tail(11)"
   ]
  },
  {
   "cell_type": "code",
   "execution_count": null,
   "metadata": {},
   "outputs": [],
   "source": [
    "#Race Values?\n",
    "singleparentkids.Race.unique()"
   ]
  },
  {
   "cell_type": "code",
   "execution_count": null,
   "metadata": {},
   "outputs": [],
   "source": [
    "#Year Values the Same?\n",
    "singleparentkids.Year.unique()"
   ]
  },
  {
   "cell_type": "code",
   "execution_count": null,
   "metadata": {
    "scrolled": true
   },
   "outputs": [],
   "source": [
    "#How many rows in data frame now?\n",
    "len(singleparentkids)"
   ]
  },
  {
   "cell_type": "markdown",
   "metadata": {},
   "source": [
    "---"
   ]
  },
  {
   "cell_type": "code",
   "execution_count": null,
   "metadata": {},
   "outputs": [],
   "source": [
    "#Check Variable Data Types\n",
    "singleparentkids.info()"
   ]
  },
  {
   "cell_type": "code",
   "execution_count": null,
   "metadata": {},
   "outputs": [],
   "source": [
    "#Change Variable Data Types\n",
    "singleparentkids.Year = singleparentkids.Year.astype('category')\n",
    "singleparentkids.Race = singleparentkids.Race.astype('category')\n",
    "singleparentkids.TotalChildren = singleparentkids.TotalChildren.astype('int64')"
   ]
  },
  {
   "cell_type": "code",
   "execution_count": null,
   "metadata": {},
   "outputs": [],
   "source": [
    "#Check Data Type Changes\n",
    "singleparentkids.info()"
   ]
  },
  {
   "cell_type": "markdown",
   "metadata": {},
   "source": [
    "---"
   ]
  },
  {
   "cell_type": "code",
   "execution_count": null,
   "metadata": {},
   "outputs": [],
   "source": [
    "singleparentkids.head(6)"
   ]
  },
  {
   "cell_type": "code",
   "execution_count": null,
   "metadata": {},
   "outputs": [],
   "source": [
    "singleparentkids.Race.unique()"
   ]
  },
  {
   "cell_type": "code",
   "execution_count": null,
   "metadata": {},
   "outputs": [],
   "source": [
    "singleparentkids.Year.unique()"
   ]
  },
  {
   "cell_type": "markdown",
   "metadata": {},
   "source": [
    "---"
   ]
  },
  {
   "cell_type": "code",
   "execution_count": null,
   "metadata": {},
   "outputs": [],
   "source": [
    "#Percentage Each Race is of Total Single Parent Children"
   ]
  },
  {
   "cell_type": "code",
   "execution_count": null,
   "metadata": {},
   "outputs": [],
   "source": [
    "#Total Number of Children of All Races Per Year\n",
    "\n",
    "yearlist = [2013, 2018, 2010, 2011, 2015, 2012, 2014, 2016, 2017, 2019]\n",
    "\n",
    "for Y in yearlist:\n",
    "    S = singleparentkids[singleparentkids.Year == Y].TotalChildren.sum()\n",
    "    print(Y,':',S, ',', end =' ')"
   ]
  },
  {
   "cell_type": "code",
   "execution_count": null,
   "metadata": {},
   "outputs": [],
   "source": [
    "#Create a Dictionary For the Sums \n",
    "Sums = {2013 : 25404000 , 2018 : 24832000 , 2010 : 25011000 , 2011 : 25434000 , 2015 : 25216000 , 2012 : 25486000 , 2014 : 25469000 ,\n",
    "        2016 : 25088000 , 2017 : 24823000 , 2019 : 24619000} \n",
    "Sums[2015]"
   ]
  },
  {
   "cell_type": "code",
   "execution_count": null,
   "metadata": {
    "scrolled": true
   },
   "outputs": [],
   "source": [
    "#Create New Column for Percentage of a Year's Total Population \n",
    "singleparentkids['PercentofTotalPopulation'] = \" \"\n",
    "singleparentkids"
   ]
  },
  {
   "cell_type": "code",
   "execution_count": null,
   "metadata": {},
   "outputs": [],
   "source": [
    "len(singleparentkids)"
   ]
  },
  {
   "cell_type": "code",
   "execution_count": null,
   "metadata": {
    "scrolled": true
   },
   "outputs": [],
   "source": [
    "#Create a function, using the dictionary, to calculate percentages \n",
    "import numpy as np\n",
    "percentages = []\n",
    "for Y in yearlist:\n",
    "    percentages.append(np.round(100*(singleparentkids[singleparentkids.Year == Y].TotalChildren/Sums[Y]),2))\n",
    "P = np.array(percentages).reshape(60,1)\n",
    "P"
   ]
  },
  {
   "cell_type": "code",
   "execution_count": null,
   "metadata": {
    "scrolled": true
   },
   "outputs": [],
   "source": [
    "#Insert Percent Column into Data Frame\n",
    "singleparentkids['PercentofTotalPopulation'] = P \n",
    "singleparentkids"
   ]
  },
  {
   "cell_type": "markdown",
   "metadata": {},
   "source": [
    "---"
   ]
  },
  {
   "cell_type": "code",
   "execution_count": null,
   "metadata": {},
   "outputs": [],
   "source": [
    "#Import Seaborn \n",
    "from matplotlib import pyplot as plt\n",
    "import seaborn as sns\n",
    "%matplotlib inline"
   ]
  },
  {
   "cell_type": "code",
   "execution_count": null,
   "metadata": {},
   "outputs": [],
   "source": [
    "#Unique Races\n",
    "singleparentkids.Race.unique().tolist()\n"
   ]
  },
  {
   "cell_type": "code",
   "execution_count": null,
   "metadata": {
    "scrolled": true
   },
   "outputs": [],
   "source": [
    "#Replace American Indian with Native American \n",
    "singleparentkids.Race = singleparentkids.Race.replace('American Indian','Native American')\n",
    "singleparentkids"
   ]
  },
  {
   "cell_type": "code",
   "execution_count": null,
   "metadata": {
    "scrolled": true
   },
   "outputs": [],
   "source": [
    "#Replace Non-Hispanic White with White\n",
    "singleparentkids.Race = singleparentkids.Race.replace ('Non-Hispanic White','White')\n",
    "singleparentkids"
   ]
  },
  {
   "cell_type": "code",
   "execution_count": null,
   "metadata": {
    "scrolled": true
   },
   "outputs": [],
   "source": [
    "#Replace Two or more races with Multiracial\n",
    "singleparentkids.Race = singleparentkids.Race.replace ('Two or more races','Multiracial')\n",
    "singleparentkids"
   ]
  },
  {
   "cell_type": "code",
   "execution_count": null,
   "metadata": {
    "scrolled": true
   },
   "outputs": [],
   "source": [
    "#Replace Hispanic or Latino with Hispanic\n",
    "singleparentkids.Race = singleparentkids.Race.replace ('Hispanic or Latino','Hispanic')\n",
    "singleparentkids"
   ]
  },
  {
   "cell_type": "code",
   "execution_count": null,
   "metadata": {
    "scrolled": true
   },
   "outputs": [],
   "source": [
    "#Replace Black or African-American with Black\n",
    "singleparentkids.Race = singleparentkids.Race.replace ('Black or African American','Black')\n",
    "singleparentkids"
   ]
  },
  {
   "cell_type": "code",
   "execution_count": null,
   "metadata": {},
   "outputs": [],
   "source": []
  },
  {
   "cell_type": "code",
   "execution_count": null,
   "metadata": {},
   "outputs": [],
   "source": [
    "#Create Plot \n",
    " \n",
    "\n",
    "#Create Lists and Dictionaries\n",
    "racelist = sorted(['Native American', 'Asian and Pacific Islander', 'Black', 'Hispanic', 'White', 'Multiracial'])\n",
    "LineColor = {'Native American':'Red', 'Asian and Pacific Islander': 'Gold', 'Black':'Black',\n",
    "             'Hispanic':'Orange', 'White': 'Pink', 'Multiracial': 'Brown' }\n",
    "LineMarker = {'Native American':'s', 'Asian and Pacific Islander': 'o', 'Black':'^',\n",
    "             'Hispanic':'s', 'White': 'o', 'Multiracial': '^' }\n",
    "\n",
    "\n",
    "\n",
    "\n",
    "#Define plot's function \n",
    "def kidsplot(racelist):\n",
    "    for race in racelist:\n",
    "        sns.lineplot(data = singleparentkids[singleparentkids.Race == race], x = 'Year', y = 'PercentofTotalPopulation', label = race,\\\n",
    "                     c= LineColor[race], marker = LineMarker[race], markersize = 10)\n",
    "    plt.legend(loc ='upper left', bbox_to_anchor = (1,1), prop = {'size': 12})\n",
    "    plt.title(\"U.S. Children in Single-Parent Homes by Race\", fontsize = 15)\n",
    "    plt.ylabel('Percent of Total Single-Parent Home Population(%)', fontsize = 12)\n",
    "    plt.xlabel('Year', fontsize = 12)\n",
    "    plt.ylim(0,50)\n",
    "    \n",
    "    plt.show\n",
    "\n",
    "\n",
    "    \n",
    "#Plot Size\n",
    "plt.rcParams['figure.figsize'] = (10,5)\n",
    "    \n",
    "#Print Plot \n",
    "kidsplot(racelist)\n",
    "\n",
    "\n"
   ]
  },
  {
   "cell_type": "markdown",
   "metadata": {},
   "source": [
    "---"
   ]
  },
  {
   "cell_type": "code",
   "execution_count": null,
   "metadata": {},
   "outputs": [],
   "source": [
    "singleparentkids.columns"
   ]
  },
  {
   "cell_type": "code",
   "execution_count": null,
   "metadata": {
    "scrolled": true
   },
   "outputs": [],
   "source": [
    "#Change Column Names Again For Export to be joined with other dataframes in SQL\n",
    "singleparentkids.columns = ['Race', 'Year', 'Number of Children(Single Parent Homes)', 'Percent of Total Children(Single Parent Homes)']\n",
    "singleparentkids"
   ]
  },
  {
   "cell_type": "code",
   "execution_count": null,
   "metadata": {},
   "outputs": [],
   "source": [
    "#Export Single Parent Kids Data Frame as a CSV\n",
    "singleparentkids.to_csv('C:\\\\Users\\zara\\Documents/Data Science Portfolio_Zara Clacken/Created CSV Files/2010-2019_Single_Parent_Children_By_Race.csv')"
   ]
  },
  {
   "cell_type": "code",
   "execution_count": null,
   "metadata": {},
   "outputs": [],
   "source": []
  },
  {
   "cell_type": "code",
   "execution_count": null,
   "metadata": {},
   "outputs": [],
   "source": []
  }
 ],
 "metadata": {
  "kernelspec": {
   "display_name": "Python 3",
   "language": "python",
   "name": "python3"
  },
  "language_info": {
   "codemirror_mode": {
    "name": "ipython",
    "version": 3
   },
   "file_extension": ".py",
   "mimetype": "text/x-python",
   "name": "python",
   "nbconvert_exporter": "python",
   "pygments_lexer": "ipython3",
   "version": "3.8.3"
  }
 },
 "nbformat": 4,
 "nbformat_minor": 4
}
