{
 "cells": [
  {
   "cell_type": "code",
   "execution_count": 173,
   "metadata": {},
   "outputs": [],
   "source": [
    "#Independent Data Science Project Part 3 by Zara Clacken"
   ]
  },
  {
   "cell_type": "code",
   "execution_count": 174,
   "metadata": {},
   "outputs": [],
   "source": [
    "#Import Packages\n",
    "import warnings\n",
    "warnings.filterwarnings('ignore')  \n",
    "import numpy as np\n",
    "import pandas as pd "
   ]
  },
  {
   "cell_type": "code",
   "execution_count": 175,
   "metadata": {},
   "outputs": [
    {
     "data": {
      "text/html": [
       "<div>\n",
       "<style scoped>\n",
       "    .dataframe tbody tr th:only-of-type {\n",
       "        vertical-align: middle;\n",
       "    }\n",
       "\n",
       "    .dataframe tbody tr th {\n",
       "        vertical-align: top;\n",
       "    }\n",
       "\n",
       "    .dataframe thead th {\n",
       "        text-align: right;\n",
       "    }\n",
       "</style>\n",
       "<table border=\"1\" class=\"dataframe\">\n",
       "  <thead>\n",
       "    <tr style=\"text-align: right;\">\n",
       "      <th></th>\n",
       "      <th>ID IPEDS Race</th>\n",
       "      <th>IPEDS Race</th>\n",
       "      <th>ID Year</th>\n",
       "      <th>Year</th>\n",
       "      <th>Completions</th>\n",
       "      <th>Geography</th>\n",
       "      <th>ID Geography</th>\n",
       "      <th>Slug Geography</th>\n",
       "      <th>share</th>\n",
       "    </tr>\n",
       "  </thead>\n",
       "  <tbody>\n",
       "    <tr>\n",
       "      <th>0</th>\n",
       "      <td>asian</td>\n",
       "      <td>Asian</td>\n",
       "      <td>2017</td>\n",
       "      <td>2017</td>\n",
       "      <td>298112</td>\n",
       "      <td>United States</td>\n",
       "      <td>01000US</td>\n",
       "      <td>united-states</td>\n",
       "      <td>0.061655</td>\n",
       "    </tr>\n",
       "    <tr>\n",
       "      <th>1</th>\n",
       "      <td>black</td>\n",
       "      <td>Black or African American</td>\n",
       "      <td>2017</td>\n",
       "      <td>2017</td>\n",
       "      <td>576612</td>\n",
       "      <td>United States</td>\n",
       "      <td>01000US</td>\n",
       "      <td>united-states</td>\n",
       "      <td>0.119254</td>\n",
       "    </tr>\n",
       "    <tr>\n",
       "      <th>2</th>\n",
       "      <td>hawaiian</td>\n",
       "      <td>Native Hawaiian or Other Pacific Islanders</td>\n",
       "      <td>2017</td>\n",
       "      <td>2017</td>\n",
       "      <td>14034</td>\n",
       "      <td>United States</td>\n",
       "      <td>01000US</td>\n",
       "      <td>united-states</td>\n",
       "      <td>0.002902</td>\n",
       "    </tr>\n",
       "    <tr>\n",
       "      <th>3</th>\n",
       "      <td>hispanic</td>\n",
       "      <td>Hispanic or Latino</td>\n",
       "      <td>2017</td>\n",
       "      <td>2017</td>\n",
       "      <td>786273</td>\n",
       "      <td>United States</td>\n",
       "      <td>01000US</td>\n",
       "      <td>united-states</td>\n",
       "      <td>0.162616</td>\n",
       "    </tr>\n",
       "    <tr>\n",
       "      <th>4</th>\n",
       "      <td>multiracial</td>\n",
       "      <td>Two or More Races</td>\n",
       "      <td>2017</td>\n",
       "      <td>2017</td>\n",
       "      <td>141479</td>\n",
       "      <td>United States</td>\n",
       "      <td>01000US</td>\n",
       "      <td>united-states</td>\n",
       "      <td>0.029260</td>\n",
       "    </tr>\n",
       "    <tr>\n",
       "      <th>5</th>\n",
       "      <td>native</td>\n",
       "      <td>American Indian or Alaska Native</td>\n",
       "      <td>2017</td>\n",
       "      <td>2017</td>\n",
       "      <td>33272</td>\n",
       "      <td>United States</td>\n",
       "      <td>01000US</td>\n",
       "      <td>united-states</td>\n",
       "      <td>0.006881</td>\n",
       "    </tr>\n",
       "  </tbody>\n",
       "</table>\n",
       "</div>"
      ],
      "text/plain": [
       "  ID IPEDS Race                                  IPEDS Race  ID Year  Year  \\\n",
       "0         asian                                       Asian     2017  2017   \n",
       "1         black                   Black or African American     2017  2017   \n",
       "2      hawaiian  Native Hawaiian or Other Pacific Islanders     2017  2017   \n",
       "3      hispanic                          Hispanic or Latino     2017  2017   \n",
       "4   multiracial                           Two or More Races     2017  2017   \n",
       "5        native            American Indian or Alaska Native     2017  2017   \n",
       "\n",
       "   Completions      Geography ID Geography Slug Geography     share  \n",
       "0       298112  United States      01000US  united-states  0.061655  \n",
       "1       576612  United States      01000US  united-states  0.119254  \n",
       "2        14034  United States      01000US  united-states  0.002902  \n",
       "3       786273  United States      01000US  united-states  0.162616  \n",
       "4       141479  United States      01000US  united-states  0.029260  \n",
       "5        33272  United States      01000US  united-states  0.006881  "
      ]
     },
     "execution_count": 175,
     "metadata": {},
     "output_type": "execute_result"
    }
   ],
   "source": [
    "#Import Raw Data Set\n",
    "\n",
    "educationraw = pd.read_csv('C:\\\\Users\\zara\\Documents/Data Science Portfolio_Zara Clacken/Raw Data/Student Race and Ethnicity.csv') \n",
    "educationraw.head(6)"
   ]
  },
  {
   "cell_type": "code",
   "execution_count": 176,
   "metadata": {},
   "outputs": [
    {
     "data": {
      "text/plain": [
       "array(['United States'], dtype=object)"
      ]
     },
     "execution_count": 176,
     "metadata": {},
     "output_type": "execute_result"
    }
   ],
   "source": [
    "#Is the data for the entire nation?\n",
    "educationraw.Geography.unique()"
   ]
  },
  {
   "cell_type": "code",
   "execution_count": 177,
   "metadata": {},
   "outputs": [
    {
     "data": {
      "text/plain": [
       "Index(['ID IPEDS Race', 'IPEDS Race', 'ID Year', 'Year', 'Completions',\n",
       "       'Geography', 'ID Geography', 'Slug Geography', 'share'],\n",
       "      dtype='object')"
      ]
     },
     "execution_count": 177,
     "metadata": {},
     "output_type": "execute_result"
    }
   ],
   "source": [
    "#Print out the Columns List\n",
    "educationraw.columns"
   ]
  },
  {
   "cell_type": "code",
   "execution_count": 178,
   "metadata": {},
   "outputs": [
    {
     "data": {
      "text/html": [
       "<div>\n",
       "<style scoped>\n",
       "    .dataframe tbody tr th:only-of-type {\n",
       "        vertical-align: middle;\n",
       "    }\n",
       "\n",
       "    .dataframe tbody tr th {\n",
       "        vertical-align: top;\n",
       "    }\n",
       "\n",
       "    .dataframe thead th {\n",
       "        text-align: right;\n",
       "    }\n",
       "</style>\n",
       "<table border=\"1\" class=\"dataframe\">\n",
       "  <thead>\n",
       "    <tr style=\"text-align: right;\">\n",
       "      <th></th>\n",
       "      <th>IPEDS Race</th>\n",
       "      <th>Year</th>\n",
       "      <th>Completions</th>\n",
       "      <th>share</th>\n",
       "    </tr>\n",
       "  </thead>\n",
       "  <tbody>\n",
       "    <tr>\n",
       "      <th>0</th>\n",
       "      <td>Asian</td>\n",
       "      <td>2017</td>\n",
       "      <td>298112</td>\n",
       "      <td>0.061655</td>\n",
       "    </tr>\n",
       "    <tr>\n",
       "      <th>1</th>\n",
       "      <td>Black or African American</td>\n",
       "      <td>2017</td>\n",
       "      <td>576612</td>\n",
       "      <td>0.119254</td>\n",
       "    </tr>\n",
       "    <tr>\n",
       "      <th>2</th>\n",
       "      <td>Native Hawaiian or Other Pacific Islanders</td>\n",
       "      <td>2017</td>\n",
       "      <td>14034</td>\n",
       "      <td>0.002902</td>\n",
       "    </tr>\n",
       "    <tr>\n",
       "      <th>3</th>\n",
       "      <td>Hispanic or Latino</td>\n",
       "      <td>2017</td>\n",
       "      <td>786273</td>\n",
       "      <td>0.162616</td>\n",
       "    </tr>\n",
       "    <tr>\n",
       "      <th>4</th>\n",
       "      <td>Two or More Races</td>\n",
       "      <td>2017</td>\n",
       "      <td>141479</td>\n",
       "      <td>0.029260</td>\n",
       "    </tr>\n",
       "    <tr>\n",
       "      <th>5</th>\n",
       "      <td>American Indian or Alaska Native</td>\n",
       "      <td>2017</td>\n",
       "      <td>33272</td>\n",
       "      <td>0.006881</td>\n",
       "    </tr>\n",
       "  </tbody>\n",
       "</table>\n",
       "</div>"
      ],
      "text/plain": [
       "                                   IPEDS Race  Year  Completions     share\n",
       "0                                       Asian  2017       298112  0.061655\n",
       "1                   Black or African American  2017       576612  0.119254\n",
       "2  Native Hawaiian or Other Pacific Islanders  2017        14034  0.002902\n",
       "3                          Hispanic or Latino  2017       786273  0.162616\n",
       "4                           Two or More Races  2017       141479  0.029260\n",
       "5            American Indian or Alaska Native  2017        33272  0.006881"
      ]
     },
     "execution_count": 178,
     "metadata": {},
     "output_type": "execute_result"
    }
   ],
   "source": [
    "#Drop Undesired Columns\n",
    "education = educationraw.drop(['ID IPEDS Race','ID Year',\n",
    "       'Geography', 'ID Geography', 'Slug Geography'], axis =1)\n",
    "education.head(6)"
   ]
  },
  {
   "cell_type": "code",
   "execution_count": 179,
   "metadata": {},
   "outputs": [
    {
     "data": {
      "text/html": [
       "<div>\n",
       "<style scoped>\n",
       "    .dataframe tbody tr th:only-of-type {\n",
       "        vertical-align: middle;\n",
       "    }\n",
       "\n",
       "    .dataframe tbody tr th {\n",
       "        vertical-align: top;\n",
       "    }\n",
       "\n",
       "    .dataframe thead th {\n",
       "        text-align: right;\n",
       "    }\n",
       "</style>\n",
       "<table border=\"1\" class=\"dataframe\">\n",
       "  <thead>\n",
       "    <tr style=\"text-align: right;\">\n",
       "      <th></th>\n",
       "      <th>Race</th>\n",
       "      <th>Year</th>\n",
       "      <th>DegreesCompleted</th>\n",
       "      <th>PercentofTotalDegrees</th>\n",
       "    </tr>\n",
       "  </thead>\n",
       "  <tbody>\n",
       "    <tr>\n",
       "      <th>0</th>\n",
       "      <td>Asian</td>\n",
       "      <td>2017</td>\n",
       "      <td>298112</td>\n",
       "      <td>0.061655</td>\n",
       "    </tr>\n",
       "    <tr>\n",
       "      <th>1</th>\n",
       "      <td>Black or African American</td>\n",
       "      <td>2017</td>\n",
       "      <td>576612</td>\n",
       "      <td>0.119254</td>\n",
       "    </tr>\n",
       "    <tr>\n",
       "      <th>2</th>\n",
       "      <td>Native Hawaiian or Other Pacific Islanders</td>\n",
       "      <td>2017</td>\n",
       "      <td>14034</td>\n",
       "      <td>0.002902</td>\n",
       "    </tr>\n",
       "    <tr>\n",
       "      <th>3</th>\n",
       "      <td>Hispanic or Latino</td>\n",
       "      <td>2017</td>\n",
       "      <td>786273</td>\n",
       "      <td>0.162616</td>\n",
       "    </tr>\n",
       "    <tr>\n",
       "      <th>4</th>\n",
       "      <td>Two or More Races</td>\n",
       "      <td>2017</td>\n",
       "      <td>141479</td>\n",
       "      <td>0.029260</td>\n",
       "    </tr>\n",
       "    <tr>\n",
       "      <th>5</th>\n",
       "      <td>American Indian or Alaska Native</td>\n",
       "      <td>2017</td>\n",
       "      <td>33272</td>\n",
       "      <td>0.006881</td>\n",
       "    </tr>\n",
       "  </tbody>\n",
       "</table>\n",
       "</div>"
      ],
      "text/plain": [
       "                                         Race  Year  DegreesCompleted  \\\n",
       "0                                       Asian  2017            298112   \n",
       "1                   Black or African American  2017            576612   \n",
       "2  Native Hawaiian or Other Pacific Islanders  2017             14034   \n",
       "3                          Hispanic or Latino  2017            786273   \n",
       "4                           Two or More Races  2017            141479   \n",
       "5            American Indian or Alaska Native  2017             33272   \n",
       "\n",
       "   PercentofTotalDegrees  \n",
       "0               0.061655  \n",
       "1               0.119254  \n",
       "2               0.002902  \n",
       "3               0.162616  \n",
       "4               0.029260  \n",
       "5               0.006881  "
      ]
     },
     "execution_count": 179,
     "metadata": {},
     "output_type": "execute_result"
    }
   ],
   "source": [
    "#Change column names\n",
    "education.columns = ['Race', 'Year', 'DegreesCompleted', 'PercentofTotalDegrees']\n",
    "education.head(6)"
   ]
  },
  {
   "cell_type": "markdown",
   "metadata": {},
   "source": [
    "---"
   ]
  },
  {
   "cell_type": "code",
   "execution_count": 180,
   "metadata": {},
   "outputs": [
    {
     "data": {
      "text/html": [
       "<div>\n",
       "<style scoped>\n",
       "    .dataframe tbody tr th:only-of-type {\n",
       "        vertical-align: middle;\n",
       "    }\n",
       "\n",
       "    .dataframe tbody tr th {\n",
       "        vertical-align: top;\n",
       "    }\n",
       "\n",
       "    .dataframe thead th {\n",
       "        text-align: right;\n",
       "    }\n",
       "</style>\n",
       "<table border=\"1\" class=\"dataframe\">\n",
       "  <thead>\n",
       "    <tr style=\"text-align: right;\">\n",
       "      <th></th>\n",
       "      <th>Race</th>\n",
       "      <th>Year</th>\n",
       "      <th>DegreesCompleted</th>\n",
       "      <th>PercentofTotalDegrees</th>\n",
       "    </tr>\n",
       "  </thead>\n",
       "  <tbody>\n",
       "    <tr>\n",
       "      <th>0</th>\n",
       "      <td>Asian</td>\n",
       "      <td>2017</td>\n",
       "      <td>298112</td>\n",
       "      <td>6.165503</td>\n",
       "    </tr>\n",
       "    <tr>\n",
       "      <th>1</th>\n",
       "      <td>Black or African American</td>\n",
       "      <td>2017</td>\n",
       "      <td>576612</td>\n",
       "      <td>11.925394</td>\n",
       "    </tr>\n",
       "    <tr>\n",
       "      <th>2</th>\n",
       "      <td>Native Hawaiian or Other Pacific Islanders</td>\n",
       "      <td>2017</td>\n",
       "      <td>14034</td>\n",
       "      <td>0.290249</td>\n",
       "    </tr>\n",
       "    <tr>\n",
       "      <th>3</th>\n",
       "      <td>Hispanic or Latino</td>\n",
       "      <td>2017</td>\n",
       "      <td>786273</td>\n",
       "      <td>16.261568</td>\n",
       "    </tr>\n",
       "    <tr>\n",
       "      <th>4</th>\n",
       "      <td>Two or More Races</td>\n",
       "      <td>2017</td>\n",
       "      <td>141479</td>\n",
       "      <td>2.926045</td>\n",
       "    </tr>\n",
       "    <tr>\n",
       "      <th>5</th>\n",
       "      <td>American Indian or Alaska Native</td>\n",
       "      <td>2017</td>\n",
       "      <td>33272</td>\n",
       "      <td>0.688126</td>\n",
       "    </tr>\n",
       "  </tbody>\n",
       "</table>\n",
       "</div>"
      ],
      "text/plain": [
       "                                         Race  Year  DegreesCompleted  \\\n",
       "0                                       Asian  2017            298112   \n",
       "1                   Black or African American  2017            576612   \n",
       "2  Native Hawaiian or Other Pacific Islanders  2017             14034   \n",
       "3                          Hispanic or Latino  2017            786273   \n",
       "4                           Two or More Races  2017            141479   \n",
       "5            American Indian or Alaska Native  2017             33272   \n",
       "\n",
       "   PercentofTotalDegrees  \n",
       "0               6.165503  \n",
       "1              11.925394  \n",
       "2               0.290249  \n",
       "3              16.261568  \n",
       "4               2.926045  \n",
       "5               0.688126  "
      ]
     },
     "execution_count": 180,
     "metadata": {},
     "output_type": "execute_result"
    }
   ],
   "source": [
    "#Multiply Total Degree Percentages by 100\n",
    "education.PercentofTotalDegrees = (education.PercentofTotalDegrees)*100\n",
    "education.head(6)"
   ]
  },
  {
   "cell_type": "markdown",
   "metadata": {},
   "source": [
    "---"
   ]
  },
  {
   "cell_type": "code",
   "execution_count": 181,
   "metadata": {},
   "outputs": [
    {
     "data": {
      "text/plain": [
       "['Asian',\n",
       " 'Black or African American',\n",
       " 'Native Hawaiian or Other Pacific Islanders',\n",
       " 'Hispanic or Latino',\n",
       " 'Two or More Races',\n",
       " 'American Indian or Alaska Native',\n",
       " 'Unknown',\n",
       " 'White']"
      ]
     },
     "execution_count": 181,
     "metadata": {},
     "output_type": "execute_result"
    }
   ],
   "source": [
    "#What are the unique races?\n",
    "education.Race.unique().tolist()"
   ]
  },
  {
   "cell_type": "code",
   "execution_count": 182,
   "metadata": {},
   "outputs": [
    {
     "data": {
      "text/plain": [
       "['Asian',\n",
       " 'Black or African American',\n",
       " 'Native Hawaiian or Other Pacific Islanders',\n",
       " 'Hispanic or Latino',\n",
       " 'Two or More Races',\n",
       " 'American Indian or Alaska Native',\n",
       " 'White']"
      ]
     },
     "execution_count": 182,
     "metadata": {},
     "output_type": "execute_result"
    }
   ],
   "source": [
    "#Drop Rows where Race is Unknown \n",
    "index_Unknown = education[education.Race == 'Unknown'].index\n",
    "education.drop(index_Unknown, inplace = True)\n",
    "education.Race.unique().tolist()"
   ]
  },
  {
   "cell_type": "markdown",
   "metadata": {},
   "source": [
    "---"
   ]
  },
  {
   "cell_type": "code",
   "execution_count": 183,
   "metadata": {},
   "outputs": [],
   "source": [
    "#Merge Asian plus Native Hawaiian or Other Pacific Islanders Degrees Completed into Asian and Pacific Islander Degrees Completed "
   ]
  },
  {
   "cell_type": "code",
   "execution_count": 184,
   "metadata": {},
   "outputs": [
    {
     "data": {
      "text/plain": [
       "[[312146], [298565], [288377], [279059], [272080], [261843]]"
      ]
     },
     "execution_count": 184,
     "metadata": {},
     "output_type": "execute_result"
    }
   ],
   "source": [
    "#Sum Asian plus Native Hawaiian or Other Pacific Islanders Degrees Completed \n",
    "yearlist = education.Year.unique()\n",
    "AADegrees = []\n",
    "PIDegrees = []\n",
    "for Y in yearlist:\n",
    "    AADegrees.append(np.array(education[education.Year == Y][education.Race == 'Asian'].DegreesCompleted))\n",
    "    PIDegrees.append(np.array(education[education.Year == Y][education.Race == 'Native Hawaiian or Other Pacific Islanders'].DegreesCompleted))\n",
    "    AAPIDegrees = np.add(AADegrees,PIDegrees)\n",
    "AAPIDegrees.tolist()\n"
   ]
  },
  {
   "cell_type": "code",
   "execution_count": 185,
   "metadata": {},
   "outputs": [
    {
     "name": "stdout",
     "output_type": "stream",
     "text": [
      "[[6.4557519999999995], [6.238032], [6.0810728], [5.975164400000001], [6.0174189], [5.893158699999999]] "
     ]
    }
   ],
   "source": [
    "#Sum Asian plus Native Hawaiian or Other Pacific Islanders Percents \n",
    "yearlist = education.Year.unique()\n",
    "AAPercent = []\n",
    "PIPercent = []\n",
    "for Y in yearlist:\n",
    "    AAPercent.append(np.array(education[education.Year == Y][education.Race == 'Asian'].PercentofTotalDegrees))\n",
    "    PIPercent.append(np.array(education[education.Year == Y][education.Race == 'Native Hawaiian or Other Pacific Islanders'].PercentofTotalDegrees))\n",
    "    AAPIPercent = np.add(AAPercent,PIPercent)\n",
    "print(AAPIPercent.tolist(), end =' ')"
   ]
  },
  {
   "cell_type": "code",
   "execution_count": 186,
   "metadata": {},
   "outputs": [
    {
     "name": "stdout",
     "output_type": "stream",
     "text": [
      "0 : \"Asian and Pacific Islander\" , 1 : \"Asian and Pacific Islander\" , 2 : \"Asian and Pacific Islander\" , 3 : \"Asian and Pacific Islander\" , 4 : \"Asian and Pacific Islander\" , 5 : \"Asian and Pacific Islander\" , "
     ]
    }
   ],
   "source": [
    "#Create an AAPI list to place into dictionary  \n",
    "\n",
    "a = '\"Asian and Pacific Islander\"'\n",
    "def AAPIfunc():\n",
    "    counter = 0\n",
    "    while counter < 6:\n",
    "            print(counter,':', a , ',', end = ' ')\n",
    "            counter = counter + 1 \n",
    "AAPIfunc()"
   ]
  },
  {
   "cell_type": "code",
   "execution_count": 187,
   "metadata": {},
   "outputs": [],
   "source": [
    "# Dictionary for AAPI to enter into Race column\n",
    "AAPIdict = {0 : \"Asian and Pacific Islander\" , 1 : \"Asian and Pacific Islander\" , 2 : \"Asian and Pacific Islander\" , \n",
    "            3 : \"Asian and Pacific Islander\" , 4 : \"Asian and Pacific Islander\" , 5 : \"Asian and Pacific Islander\"}"
   ]
  },
  {
   "cell_type": "code",
   "execution_count": 188,
   "metadata": {},
   "outputs": [
    {
     "name": "stdout",
     "output_type": "stream",
     "text": [
      "0 : 2017 , 1 : 2016 , 2 : 2015 , 3 : 2014 , 4 : 2013 , 5 : 2012 , "
     ]
    }
   ],
   "source": [
    "#Create a Year list to put into dictionary \n",
    "years = education.Year.unique().tolist()\n",
    "def yearfunc():\n",
    "    counter = 0\n",
    "    while counter < 6: \n",
    "            for y in years:\n",
    "                    print(counter, ':', y,',', end = ' ')\n",
    "                    counter = counter +1 \n",
    "yearfunc()"
   ]
  },
  {
   "cell_type": "code",
   "execution_count": 189,
   "metadata": {},
   "outputs": [],
   "source": [
    "#Dictionary for years\n",
    "Yeardict = {0 : 2017 , 1 : 2016 , 2 : 2015 , 3 : 2014 , 4 : 2013 , 5 : 2012}"
   ]
  },
  {
   "cell_type": "code",
   "execution_count": 190,
   "metadata": {},
   "outputs": [
    {
     "name": "stdout",
     "output_type": "stream",
     "text": [
      "0 : [312146] , 1 : [298565] , 2 : [288377] , 3 : [279059] , 4 : [272080] , 5 : [261843] , "
     ]
    }
   ],
   "source": [
    "#List for Degrees Completed to put into dictionary\n",
    "degrees = AAPIDegrees.tolist()\n",
    "def degreefunc():\n",
    "    counter = 0\n",
    "    while counter < 6: \n",
    "            for d in degrees:\n",
    "                    print(counter, ':', d,',', end = ' ')\n",
    "                    counter = counter +1 \n",
    "degreefunc()\n"
   ]
  },
  {
   "cell_type": "code",
   "execution_count": 191,
   "metadata": {},
   "outputs": [],
   "source": [
    "#Dictionary for degrees\n",
    "Degreedict = {0 : 312146 , 1 : 298565 , 2 : 288377 , 3 : 279059 , 4 : 272080 , 5 : 261843}"
   ]
  },
  {
   "cell_type": "code",
   "execution_count": 192,
   "metadata": {},
   "outputs": [
    {
     "name": "stdout",
     "output_type": "stream",
     "text": [
      "0 : [6.4557519999999995] , 1 : [6.238032] , 2 : [6.0810728] , 3 : [5.975164400000001] , 4 : [6.0174189] , 5 : [5.893158699999999] , "
     ]
    }
   ],
   "source": [
    "#List for percentages\n",
    "percentages = AAPIPercent.tolist()\n",
    "def percentfunc():\n",
    "    counter = 0\n",
    "    while counter < 6: \n",
    "            for p in percentages:\n",
    "                    print(counter, ':', p,',', end = ' ')\n",
    "                    counter = counter +1 \n",
    "percentfunc()"
   ]
  },
  {
   "cell_type": "code",
   "execution_count": 193,
   "metadata": {},
   "outputs": [],
   "source": [
    "#Create dictionary for percentages\n",
    "Percentdict = {0 : 6.4557519999999995 , 1 : 6.238032 , 2 : 6.0810728 , 3 : 5.975164400000001 , 4 : 6.0174189 , 5 : 5.893158699999999}"
   ]
  },
  {
   "cell_type": "code",
   "execution_count": 194,
   "metadata": {},
   "outputs": [],
   "source": [
    "#Test dictionaries\n",
    "#AAPIdict[2]\n",
    "#Yeardict[2]\n",
    "#Degreedict[2]\n",
    "#Percentdict[2]"
   ]
  },
  {
   "cell_type": "code",
   "execution_count": 195,
   "metadata": {},
   "outputs": [
    {
     "data": {
      "text/plain": [
       "Index(['Race', 'Year', 'DegreesCompleted', 'PercentofTotalDegrees'], dtype='object')"
      ]
     },
     "execution_count": 195,
     "metadata": {},
     "output_type": "execute_result"
    }
   ],
   "source": [
    "education.columns"
   ]
  },
  {
   "cell_type": "code",
   "execution_count": 196,
   "metadata": {},
   "outputs": [
    {
     "data": {
      "text/html": [
       "<div>\n",
       "<style scoped>\n",
       "    .dataframe tbody tr th:only-of-type {\n",
       "        vertical-align: middle;\n",
       "    }\n",
       "\n",
       "    .dataframe tbody tr th {\n",
       "        vertical-align: top;\n",
       "    }\n",
       "\n",
       "    .dataframe thead th {\n",
       "        text-align: right;\n",
       "    }\n",
       "</style>\n",
       "<table border=\"1\" class=\"dataframe\">\n",
       "  <thead>\n",
       "    <tr style=\"text-align: right;\">\n",
       "      <th></th>\n",
       "      <th>Race</th>\n",
       "      <th>Year</th>\n",
       "      <th>DegreesCompleted</th>\n",
       "      <th>PercentofTotalDegrees</th>\n",
       "    </tr>\n",
       "  </thead>\n",
       "  <tbody>\n",
       "    <tr>\n",
       "      <th>42</th>\n",
       "      <td>Asian and Pacific Islander</td>\n",
       "      <td>2017</td>\n",
       "      <td>312146</td>\n",
       "      <td>6.455752</td>\n",
       "    </tr>\n",
       "    <tr>\n",
       "      <th>43</th>\n",
       "      <td>Asian and Pacific Islander</td>\n",
       "      <td>2016</td>\n",
       "      <td>298565</td>\n",
       "      <td>6.238032</td>\n",
       "    </tr>\n",
       "    <tr>\n",
       "      <th>44</th>\n",
       "      <td>Asian and Pacific Islander</td>\n",
       "      <td>2015</td>\n",
       "      <td>288377</td>\n",
       "      <td>6.081073</td>\n",
       "    </tr>\n",
       "    <tr>\n",
       "      <th>45</th>\n",
       "      <td>Asian and Pacific Islander</td>\n",
       "      <td>2014</td>\n",
       "      <td>279059</td>\n",
       "      <td>5.975164</td>\n",
       "    </tr>\n",
       "    <tr>\n",
       "      <th>46</th>\n",
       "      <td>Asian and Pacific Islander</td>\n",
       "      <td>2013</td>\n",
       "      <td>272080</td>\n",
       "      <td>6.017419</td>\n",
       "    </tr>\n",
       "    <tr>\n",
       "      <th>47</th>\n",
       "      <td>Asian and Pacific Islander</td>\n",
       "      <td>2012</td>\n",
       "      <td>261843</td>\n",
       "      <td>5.893159</td>\n",
       "    </tr>\n",
       "  </tbody>\n",
       "</table>\n",
       "</div>"
      ],
      "text/plain": [
       "                          Race  Year  DegreesCompleted  PercentofTotalDegrees\n",
       "42  Asian and Pacific Islander  2017            312146               6.455752\n",
       "43  Asian and Pacific Islander  2016            298565               6.238032\n",
       "44  Asian and Pacific Islander  2015            288377               6.081073\n",
       "45  Asian and Pacific Islander  2014            279059               5.975164\n",
       "46  Asian and Pacific Islander  2013            272080               6.017419\n",
       "47  Asian and Pacific Islander  2012            261843               5.893159"
      ]
     },
     "execution_count": 196,
     "metadata": {},
     "output_type": "execute_result"
    }
   ],
   "source": [
    "#Insert New Rows for AAPI using Dictionaries \n",
    "numberlist = [0,1,2,3,4,5]\n",
    "for n in numberlist:\n",
    "    new_row = {'Race':AAPIdict[n], 'Year':Yeardict[n], 'DegreesCompleted':Degreedict[n],'PercentofTotalDegrees':Percentdict[n]}\n",
    "    education = education.append(new_row, ignore_index=True)\n",
    "education.tail(6)"
   ]
  },
  {
   "cell_type": "code",
   "execution_count": 197,
   "metadata": {},
   "outputs": [
    {
     "data": {
      "text/plain": [
       "array(['Asian', 'Black or African American',\n",
       "       'Native Hawaiian or Other Pacific Islanders', 'Hispanic or Latino',\n",
       "       'Two or More Races', 'American Indian or Alaska Native', 'White',\n",
       "       'Asian and Pacific Islander'], dtype=object)"
      ]
     },
     "execution_count": 197,
     "metadata": {},
     "output_type": "execute_result"
    }
   ],
   "source": [
    "education.Race.unique()"
   ]
  },
  {
   "cell_type": "code",
   "execution_count": 198,
   "metadata": {},
   "outputs": [
    {
     "data": {
      "text/plain": [
       "array(['Black or African American', 'Hispanic or Latino',\n",
       "       'Two or More Races', 'American Indian or Alaska Native', 'White',\n",
       "       'Asian and Pacific Islander'], dtype=object)"
      ]
     },
     "execution_count": 198,
     "metadata": {},
     "output_type": "execute_result"
    }
   ],
   "source": [
    "#Drop original Asian Rows and Native Hawaiian or Other Pacific Islanders rows\n",
    "index_Asian = education[education.Race == 'Asian'].index\n",
    "index_PacificHawaiin = education[education.Race == 'Native Hawaiian or Other Pacific Islanders'].index  \n",
    "education.drop(index_Asian, inplace = True)\n",
    "education.drop(index_PacificHawaiin, inplace = True)\n",
    "\n",
    "#Check to see if the above races have been dropped\n",
    "education.Race.unique()"
   ]
  },
  {
   "cell_type": "markdown",
   "metadata": {},
   "source": [
    "---"
   ]
  },
  {
   "cell_type": "code",
   "execution_count": null,
   "metadata": {},
   "outputs": [],
   "source": [
    "#Change the names of the other races \n",
    "education.Race = \n",
    "education.Race = education.Race.replace ('Black or African American','Black')\n"
   ]
  },
  {
   "cell_type": "code",
   "execution_count": 201,
   "metadata": {},
   "outputs": [],
   "source": [
    "originalracelist = ['Black or African American','Hispanic or Latino','Two or More Races',\n",
    "                    'American Indian or Alaska Native', 'White','Asian and Pacific Islander'] \n",
    "newracelist = ['Black','Hispanic','Multiracial','Native American','White','Asian and Pacific Islander']"
   ]
  },
  {
   "cell_type": "code",
   "execution_count": 204,
   "metadata": {},
   "outputs": [
    {
     "name": "stdout",
     "output_type": "stream",
     "text": [
      "0 : Black or African American , 1 : Hispanic or Latino , 2 : Two or More Races , 3 : American Indian or Alaska Native , 4 : White , 5 : Asian and Pacific Islander , "
     ]
    }
   ],
   "source": [
    "#original race list function to put into dictionary\n",
    "def ogracefunc():\n",
    "    counter = 0\n",
    "    while counter < 6: \n",
    "            for o in originalracelist:\n",
    "                    print(counter, ':', o,',', end = ' ')\n",
    "                    counter = counter +1 \n",
    "ogracefunc()"
   ]
  },
  {
   "cell_type": "code",
   "execution_count": 205,
   "metadata": {},
   "outputs": [
    {
     "name": "stdout",
     "output_type": "stream",
     "text": [
      "0 : Black , 1 : Hispanic , 2 : Multiracial , 3 : Native American , 4 : White , 5 : Asian and Pacific Islander , "
     ]
    }
   ],
   "source": [
    "#new race list function to put into dictionary \n",
    "def newracefunc():\n",
    "    counter = 0\n",
    "    while counter < 6: \n",
    "            for r in newracelist:\n",
    "                    print(counter, ':', r,',', end = ' ')\n",
    "                    counter = counter +1 \n",
    "newracefunc()"
   ]
  },
  {
   "cell_type": "code",
   "execution_count": 208,
   "metadata": {},
   "outputs": [
    {
     "data": {
      "text/plain": [
       "array(['Black', 'Hispanic', 'Multiracial', 'Native American', 'White',\n",
       "       'Asian and Pacific Islander'], dtype=object)"
      ]
     },
     "execution_count": 208,
     "metadata": {},
     "output_type": "execute_result"
    }
   ],
   "source": [
    "#Use Dictionaries and a for loop to replace the original race names with new ones \n",
    "ogracedict = {0 : 'Black or African American' , 1 : 'Hispanic or Latino' , 2 : 'Two or More Races' , 3 : 'American Indian or Alaska Native' , \n",
    "              4 : 'White' , 5 : 'Asian and Pacific Islander' }\n",
    "newracedict ={0 : 'Black' , 1 : 'Hispanic' , 2 : 'Multiracial' , 3 : 'Native American' , 4 : 'White' , 5 : 'Asian and Pacific Islander'}\n",
    "for n in numberlist:\n",
    "    education.Race = education.Race.replace(ogracedict[n], newracedict[n])\n",
    "education.Race.unique()"
   ]
  },
  {
   "cell_type": "code",
   "execution_count": 209,
   "metadata": {
    "scrolled": true
   },
   "outputs": [
    {
     "data": {
      "text/html": [
       "<div>\n",
       "<style scoped>\n",
       "    .dataframe tbody tr th:only-of-type {\n",
       "        vertical-align: middle;\n",
       "    }\n",
       "\n",
       "    .dataframe tbody tr th {\n",
       "        vertical-align: top;\n",
       "    }\n",
       "\n",
       "    .dataframe thead th {\n",
       "        text-align: right;\n",
       "    }\n",
       "</style>\n",
       "<table border=\"1\" class=\"dataframe\">\n",
       "  <thead>\n",
       "    <tr style=\"text-align: right;\">\n",
       "      <th></th>\n",
       "      <th>Race</th>\n",
       "      <th>Year</th>\n",
       "      <th>DegreesCompleted</th>\n",
       "      <th>PercentofTotalDegrees</th>\n",
       "    </tr>\n",
       "  </thead>\n",
       "  <tbody>\n",
       "    <tr>\n",
       "      <th>1</th>\n",
       "      <td>Black</td>\n",
       "      <td>2017</td>\n",
       "      <td>576612</td>\n",
       "      <td>11.925394</td>\n",
       "    </tr>\n",
       "    <tr>\n",
       "      <th>3</th>\n",
       "      <td>Hispanic</td>\n",
       "      <td>2017</td>\n",
       "      <td>786273</td>\n",
       "      <td>16.261568</td>\n",
       "    </tr>\n",
       "    <tr>\n",
       "      <th>4</th>\n",
       "      <td>Multiracial</td>\n",
       "      <td>2017</td>\n",
       "      <td>141479</td>\n",
       "      <td>2.926045</td>\n",
       "    </tr>\n",
       "    <tr>\n",
       "      <th>5</th>\n",
       "      <td>Native American</td>\n",
       "      <td>2017</td>\n",
       "      <td>33272</td>\n",
       "      <td>0.688126</td>\n",
       "    </tr>\n",
       "    <tr>\n",
       "      <th>6</th>\n",
       "      <td>White</td>\n",
       "      <td>2017</td>\n",
       "      <td>2765344</td>\n",
       "      <td>57.192387</td>\n",
       "    </tr>\n",
       "    <tr>\n",
       "      <th>8</th>\n",
       "      <td>Black</td>\n",
       "      <td>2016</td>\n",
       "      <td>576255</td>\n",
       "      <td>12.039915</td>\n",
       "    </tr>\n",
       "    <tr>\n",
       "      <th>10</th>\n",
       "      <td>Hispanic</td>\n",
       "      <td>2016</td>\n",
       "      <td>740025</td>\n",
       "      <td>15.461624</td>\n",
       "    </tr>\n",
       "    <tr>\n",
       "      <th>11</th>\n",
       "      <td>Multiracial</td>\n",
       "      <td>2016</td>\n",
       "      <td>132024</td>\n",
       "      <td>2.758428</td>\n",
       "    </tr>\n",
       "    <tr>\n",
       "      <th>12</th>\n",
       "      <td>Native American</td>\n",
       "      <td>2016</td>\n",
       "      <td>33193</td>\n",
       "      <td>0.693514</td>\n",
       "    </tr>\n",
       "    <tr>\n",
       "      <th>13</th>\n",
       "      <td>White</td>\n",
       "      <td>2016</td>\n",
       "      <td>2767440</td>\n",
       "      <td>57.821176</td>\n",
       "    </tr>\n",
       "    <tr>\n",
       "      <th>15</th>\n",
       "      <td>Black</td>\n",
       "      <td>2015</td>\n",
       "      <td>573638</td>\n",
       "      <td>12.096438</td>\n",
       "    </tr>\n",
       "    <tr>\n",
       "      <th>17</th>\n",
       "      <td>Hispanic</td>\n",
       "      <td>2015</td>\n",
       "      <td>687513</td>\n",
       "      <td>14.497746</td>\n",
       "    </tr>\n",
       "    <tr>\n",
       "      <th>18</th>\n",
       "      <td>Multiracial</td>\n",
       "      <td>2015</td>\n",
       "      <td>116276</td>\n",
       "      <td>2.451939</td>\n",
       "    </tr>\n",
       "    <tr>\n",
       "      <th>19</th>\n",
       "      <td>Native American</td>\n",
       "      <td>2015</td>\n",
       "      <td>33936</td>\n",
       "      <td>0.715616</td>\n",
       "    </tr>\n",
       "    <tr>\n",
       "      <th>20</th>\n",
       "      <td>White</td>\n",
       "      <td>2015</td>\n",
       "      <td>2790167</td>\n",
       "      <td>58.836900</td>\n",
       "    </tr>\n",
       "    <tr>\n",
       "      <th>22</th>\n",
       "      <td>Black</td>\n",
       "      <td>2014</td>\n",
       "      <td>556705</td>\n",
       "      <td>11.920074</td>\n",
       "    </tr>\n",
       "    <tr>\n",
       "      <th>24</th>\n",
       "      <td>Hispanic</td>\n",
       "      <td>2014</td>\n",
       "      <td>638188</td>\n",
       "      <td>13.664774</td>\n",
       "    </tr>\n",
       "    <tr>\n",
       "      <th>25</th>\n",
       "      <td>Multiracial</td>\n",
       "      <td>2014</td>\n",
       "      <td>99685</td>\n",
       "      <td>2.134438</td>\n",
       "    </tr>\n",
       "    <tr>\n",
       "      <th>26</th>\n",
       "      <td>Native American</td>\n",
       "      <td>2014</td>\n",
       "      <td>34050</td>\n",
       "      <td>0.729073</td>\n",
       "    </tr>\n",
       "    <tr>\n",
       "      <th>27</th>\n",
       "      <td>White</td>\n",
       "      <td>2014</td>\n",
       "      <td>2791956</td>\n",
       "      <td>59.780893</td>\n",
       "    </tr>\n",
       "    <tr>\n",
       "      <th>29</th>\n",
       "      <td>Black</td>\n",
       "      <td>2013</td>\n",
       "      <td>529285</td>\n",
       "      <td>11.705857</td>\n",
       "    </tr>\n",
       "    <tr>\n",
       "      <th>31</th>\n",
       "      <td>Hispanic</td>\n",
       "      <td>2013</td>\n",
       "      <td>589993</td>\n",
       "      <td>13.048497</td>\n",
       "    </tr>\n",
       "    <tr>\n",
       "      <th>32</th>\n",
       "      <td>Multiracial</td>\n",
       "      <td>2013</td>\n",
       "      <td>78724</td>\n",
       "      <td>1.741088</td>\n",
       "    </tr>\n",
       "    <tr>\n",
       "      <th>33</th>\n",
       "      <td>Native American</td>\n",
       "      <td>2013</td>\n",
       "      <td>34147</td>\n",
       "      <td>0.755207</td>\n",
       "    </tr>\n",
       "    <tr>\n",
       "      <th>34</th>\n",
       "      <td>White</td>\n",
       "      <td>2013</td>\n",
       "      <td>2753647</td>\n",
       "      <td>60.900644</td>\n",
       "    </tr>\n",
       "    <tr>\n",
       "      <th>36</th>\n",
       "      <td>Black</td>\n",
       "      <td>2012</td>\n",
       "      <td>516275</td>\n",
       "      <td>11.619522</td>\n",
       "    </tr>\n",
       "    <tr>\n",
       "      <th>38</th>\n",
       "      <td>Hispanic</td>\n",
       "      <td>2012</td>\n",
       "      <td>550949</td>\n",
       "      <td>12.399911</td>\n",
       "    </tr>\n",
       "    <tr>\n",
       "      <th>39</th>\n",
       "      <td>Multiracial</td>\n",
       "      <td>2012</td>\n",
       "      <td>61313</td>\n",
       "      <td>1.379939</td>\n",
       "    </tr>\n",
       "    <tr>\n",
       "      <th>40</th>\n",
       "      <td>Native American</td>\n",
       "      <td>2012</td>\n",
       "      <td>33366</td>\n",
       "      <td>0.750950</td>\n",
       "    </tr>\n",
       "    <tr>\n",
       "      <th>41</th>\n",
       "      <td>White</td>\n",
       "      <td>2012</td>\n",
       "      <td>2727541</td>\n",
       "      <td>61.387289</td>\n",
       "    </tr>\n",
       "    <tr>\n",
       "      <th>42</th>\n",
       "      <td>Asian and Pacific Islander</td>\n",
       "      <td>2017</td>\n",
       "      <td>312146</td>\n",
       "      <td>6.455752</td>\n",
       "    </tr>\n",
       "    <tr>\n",
       "      <th>43</th>\n",
       "      <td>Asian and Pacific Islander</td>\n",
       "      <td>2016</td>\n",
       "      <td>298565</td>\n",
       "      <td>6.238032</td>\n",
       "    </tr>\n",
       "    <tr>\n",
       "      <th>44</th>\n",
       "      <td>Asian and Pacific Islander</td>\n",
       "      <td>2015</td>\n",
       "      <td>288377</td>\n",
       "      <td>6.081073</td>\n",
       "    </tr>\n",
       "    <tr>\n",
       "      <th>45</th>\n",
       "      <td>Asian and Pacific Islander</td>\n",
       "      <td>2014</td>\n",
       "      <td>279059</td>\n",
       "      <td>5.975164</td>\n",
       "    </tr>\n",
       "    <tr>\n",
       "      <th>46</th>\n",
       "      <td>Asian and Pacific Islander</td>\n",
       "      <td>2013</td>\n",
       "      <td>272080</td>\n",
       "      <td>6.017419</td>\n",
       "    </tr>\n",
       "    <tr>\n",
       "      <th>47</th>\n",
       "      <td>Asian and Pacific Islander</td>\n",
       "      <td>2012</td>\n",
       "      <td>261843</td>\n",
       "      <td>5.893159</td>\n",
       "    </tr>\n",
       "  </tbody>\n",
       "</table>\n",
       "</div>"
      ],
      "text/plain": [
       "                          Race  Year  DegreesCompleted  PercentofTotalDegrees\n",
       "1                        Black  2017            576612              11.925394\n",
       "3                     Hispanic  2017            786273              16.261568\n",
       "4                  Multiracial  2017            141479               2.926045\n",
       "5              Native American  2017             33272               0.688126\n",
       "6                        White  2017           2765344              57.192387\n",
       "8                        Black  2016            576255              12.039915\n",
       "10                    Hispanic  2016            740025              15.461624\n",
       "11                 Multiracial  2016            132024               2.758428\n",
       "12             Native American  2016             33193               0.693514\n",
       "13                       White  2016           2767440              57.821176\n",
       "15                       Black  2015            573638              12.096438\n",
       "17                    Hispanic  2015            687513              14.497746\n",
       "18                 Multiracial  2015            116276               2.451939\n",
       "19             Native American  2015             33936               0.715616\n",
       "20                       White  2015           2790167              58.836900\n",
       "22                       Black  2014            556705              11.920074\n",
       "24                    Hispanic  2014            638188              13.664774\n",
       "25                 Multiracial  2014             99685               2.134438\n",
       "26             Native American  2014             34050               0.729073\n",
       "27                       White  2014           2791956              59.780893\n",
       "29                       Black  2013            529285              11.705857\n",
       "31                    Hispanic  2013            589993              13.048497\n",
       "32                 Multiracial  2013             78724               1.741088\n",
       "33             Native American  2013             34147               0.755207\n",
       "34                       White  2013           2753647              60.900644\n",
       "36                       Black  2012            516275              11.619522\n",
       "38                    Hispanic  2012            550949              12.399911\n",
       "39                 Multiracial  2012             61313               1.379939\n",
       "40             Native American  2012             33366               0.750950\n",
       "41                       White  2012           2727541              61.387289\n",
       "42  Asian and Pacific Islander  2017            312146               6.455752\n",
       "43  Asian and Pacific Islander  2016            298565               6.238032\n",
       "44  Asian and Pacific Islander  2015            288377               6.081073\n",
       "45  Asian and Pacific Islander  2014            279059               5.975164\n",
       "46  Asian and Pacific Islander  2013            272080               6.017419\n",
       "47  Asian and Pacific Islander  2012            261843               5.893159"
      ]
     },
     "execution_count": 209,
     "metadata": {},
     "output_type": "execute_result"
    }
   ],
   "source": [
    "#Final data frame\n",
    "education"
   ]
  },
  {
   "cell_type": "code",
   "execution_count": null,
   "metadata": {},
   "outputs": [],
   "source": []
  },
  {
   "cell_type": "code",
   "execution_count": 214,
   "metadata": {},
   "outputs": [
    {
     "data": {
      "text/html": [
       "<div>\n",
       "<style scoped>\n",
       "    .dataframe tbody tr th:only-of-type {\n",
       "        vertical-align: middle;\n",
       "    }\n",
       "\n",
       "    .dataframe tbody tr th {\n",
       "        vertical-align: top;\n",
       "    }\n",
       "\n",
       "    .dataframe thead th {\n",
       "        text-align: right;\n",
       "    }\n",
       "</style>\n",
       "<table border=\"1\" class=\"dataframe\">\n",
       "  <thead>\n",
       "    <tr style=\"text-align: right;\">\n",
       "      <th></th>\n",
       "      <th>Race</th>\n",
       "      <th>Year</th>\n",
       "      <th>DegreesCompleted</th>\n",
       "      <th>PercentofTotalDegrees</th>\n",
       "    </tr>\n",
       "  </thead>\n",
       "  <tbody>\n",
       "    <tr>\n",
       "      <th>1</th>\n",
       "      <td>Black</td>\n",
       "      <td>2017</td>\n",
       "      <td>576612</td>\n",
       "      <td>11.93</td>\n",
       "    </tr>\n",
       "    <tr>\n",
       "      <th>3</th>\n",
       "      <td>Hispanic</td>\n",
       "      <td>2017</td>\n",
       "      <td>786273</td>\n",
       "      <td>16.26</td>\n",
       "    </tr>\n",
       "    <tr>\n",
       "      <th>4</th>\n",
       "      <td>Multiracial</td>\n",
       "      <td>2017</td>\n",
       "      <td>141479</td>\n",
       "      <td>2.93</td>\n",
       "    </tr>\n",
       "    <tr>\n",
       "      <th>5</th>\n",
       "      <td>Native American</td>\n",
       "      <td>2017</td>\n",
       "      <td>33272</td>\n",
       "      <td>0.69</td>\n",
       "    </tr>\n",
       "    <tr>\n",
       "      <th>6</th>\n",
       "      <td>White</td>\n",
       "      <td>2017</td>\n",
       "      <td>2765344</td>\n",
       "      <td>57.19</td>\n",
       "    </tr>\n",
       "    <tr>\n",
       "      <th>8</th>\n",
       "      <td>Black</td>\n",
       "      <td>2016</td>\n",
       "      <td>576255</td>\n",
       "      <td>12.04</td>\n",
       "    </tr>\n",
       "  </tbody>\n",
       "</table>\n",
       "</div>"
      ],
      "text/plain": [
       "              Race  Year  DegreesCompleted  PercentofTotalDegrees\n",
       "1            Black  2017            576612                  11.93\n",
       "3         Hispanic  2017            786273                  16.26\n",
       "4      Multiracial  2017            141479                   2.93\n",
       "5  Native American  2017             33272                   0.69\n",
       "6            White  2017           2765344                  57.19\n",
       "8            Black  2016            576255                  12.04"
      ]
     },
     "execution_count": 214,
     "metadata": {},
     "output_type": "execute_result"
    }
   ],
   "source": [
    "#Round Percent of Total Degrees Column\n",
    "education.PercentofTotalDegrees = np.round(education.PercentofTotalDegrees,2)\n",
    "education.head(6)"
   ]
  },
  {
   "cell_type": "markdown",
   "metadata": {},
   "source": [
    "---"
   ]
  },
  {
   "cell_type": "code",
   "execution_count": 210,
   "metadata": {},
   "outputs": [],
   "source": [
    "#Create Visualzation"
   ]
  },
  {
   "cell_type": "code",
   "execution_count": 222,
   "metadata": {},
   "outputs": [],
   "source": [
    "#Import Seaborn\n",
    "from matplotlib import pyplot as plt\n",
    "import seaborn as sns\n",
    "%matplotlib inline"
   ]
  },
  {
   "cell_type": "code",
   "execution_count": 224,
   "metadata": {},
   "outputs": [
    {
     "data": {
      "image/png": "[encoded data removed]",
      "text/plain": [
       "<Figure size 720x360 with 1 Axes>"
      ]
     },
     "metadata": {
      "needs_background": "light"
     },
     "output_type": "display_data"
    }
   ],
   "source": [
    "#Create Line Plot\n",
    "\n",
    "#Create List and Dictionaries\n",
    "\n",
    "racelist = sorted(['White', 'Hispanic', 'Black', 'Multiracial','Native American', 'Asian and Pacific Islander'])\n",
    "LineColor = {'Native American':'Red', 'Asian and Pacific Islander': 'Gold', 'Black':'Black',\n",
    "             'Hispanic':'Orange', 'White': 'Pink', 'Multiracial': 'Brown'}\n",
    "LineMarker = {'Native American':'s', 'Asian and Pacific Islander': 'o', 'Black':'^',\n",
    "             'Hispanic':'s', 'White': 'o', 'Multiracial': '^'}\n",
    "\n",
    "#Create Plot Function\n",
    "def educationplot(racelist):\n",
    "    for race in racelist:\n",
    "        sns.lineplot(data = education[education.Race == race], x = 'Year', y = 'PercentofTotalDegrees', label = race,\\\n",
    "                     c= LineColor[race], marker = LineMarker[race], markersize = 10 )\n",
    "    plt.legend(loc ='upper left', bbox_to_anchor = (1,1), prop = {'size': 12})\n",
    "    plt.title(\"Degree Completion By Race\", fontsize = 15)\n",
    "    plt.ylabel('Percent of Total Degrees Completed (%)', fontsize = 12)\n",
    "    plt.xlabel('Year', fontsize = 12)\n",
    "    plt.ylim = (0,30)\n",
    "    plt.show\n",
    "\n",
    "plt.rcParams['figure.figsize'] = (10,5)\n",
    "    \n",
    "educationplot(racelist)"
   ]
  },
  {
   "cell_type": "code",
   "execution_count": 225,
   "metadata": {},
   "outputs": [
    {
     "data": {
      "text/plain": [
       "Index(['Race', 'Year', 'DegreesCompleted', 'PercentofTotalDegrees'], dtype='object')"
      ]
     },
     "execution_count": 225,
     "metadata": {},
     "output_type": "execute_result"
    }
   ],
   "source": [
    "education.columns"
   ]
  },
  {
   "cell_type": "code",
   "execution_count": 228,
   "metadata": {},
   "outputs": [
    {
     "data": {
      "text/html": [
       "<div>\n",
       "<style scoped>\n",
       "    .dataframe tbody tr th:only-of-type {\n",
       "        vertical-align: middle;\n",
       "    }\n",
       "\n",
       "    .dataframe tbody tr th {\n",
       "        vertical-align: top;\n",
       "    }\n",
       "\n",
       "    .dataframe thead th {\n",
       "        text-align: right;\n",
       "    }\n",
       "</style>\n",
       "<table border=\"1\" class=\"dataframe\">\n",
       "  <thead>\n",
       "    <tr style=\"text-align: right;\">\n",
       "      <th></th>\n",
       "      <th>Race</th>\n",
       "      <th>Year</th>\n",
       "      <th>Degrees Completed</th>\n",
       "      <th>Percent of Total Degrees</th>\n",
       "    </tr>\n",
       "  </thead>\n",
       "  <tbody>\n",
       "    <tr>\n",
       "      <th>1</th>\n",
       "      <td>Black</td>\n",
       "      <td>2017</td>\n",
       "      <td>576612</td>\n",
       "      <td>11.93</td>\n",
       "    </tr>\n",
       "    <tr>\n",
       "      <th>3</th>\n",
       "      <td>Hispanic</td>\n",
       "      <td>2017</td>\n",
       "      <td>786273</td>\n",
       "      <td>16.26</td>\n",
       "    </tr>\n",
       "    <tr>\n",
       "      <th>4</th>\n",
       "      <td>Multiracial</td>\n",
       "      <td>2017</td>\n",
       "      <td>141479</td>\n",
       "      <td>2.93</td>\n",
       "    </tr>\n",
       "    <tr>\n",
       "      <th>5</th>\n",
       "      <td>Native American</td>\n",
       "      <td>2017</td>\n",
       "      <td>33272</td>\n",
       "      <td>0.69</td>\n",
       "    </tr>\n",
       "    <tr>\n",
       "      <th>6</th>\n",
       "      <td>White</td>\n",
       "      <td>2017</td>\n",
       "      <td>2765344</td>\n",
       "      <td>57.19</td>\n",
       "    </tr>\n",
       "    <tr>\n",
       "      <th>8</th>\n",
       "      <td>Black</td>\n",
       "      <td>2016</td>\n",
       "      <td>576255</td>\n",
       "      <td>12.04</td>\n",
       "    </tr>\n",
       "  </tbody>\n",
       "</table>\n",
       "</div>"
      ],
      "text/plain": [
       "              Race  Year  Degrees Completed  Percent of Total Degrees\n",
       "1            Black  2017             576612                     11.93\n",
       "3         Hispanic  2017             786273                     16.26\n",
       "4      Multiracial  2017             141479                      2.93\n",
       "5  Native American  2017              33272                      0.69\n",
       "6            White  2017            2765344                     57.19\n",
       "8            Black  2016             576255                     12.04"
      ]
     },
     "execution_count": 228,
     "metadata": {},
     "output_type": "execute_result"
    }
   ],
   "source": [
    "#Change Column Names Again For Export to be joined with other dataframes in SQL\n",
    "education.columns = ['Race', 'Year', 'Degrees Completed', 'Percent of Total Degrees']\n",
    "education.head(6)"
   ]
  },
  {
   "cell_type": "code",
   "execution_count": 229,
   "metadata": {},
   "outputs": [],
   "source": [
    "#Export education Data Frame as a CSV\n",
    "#education.to_csv('C:\\\\Users\\zara\\Documents/Data Science Portfolio_Zara Clacken/Created CSV Files/2012-2017_Degrees_Completed_By_Race.csv')"
   ]
  },
  {
   "cell_type": "code",
   "execution_count": null,
   "metadata": {},
   "outputs": [],
   "source": []
  }
 ],
 "metadata": {
  "kernelspec": {
   "display_name": "Python 3",
   "language": "python",
   "name": "python3"
  },
  "language_info": {
   "codemirror_mode": {
    "name": "ipython",
    "version": 3
   },
   "file_extension": ".py",
   "mimetype": "text/x-python",
   "name": "python",
   "nbconvert_exporter": "python",
   "pygments_lexer": "ipython3",
   "version": "3.8.3"
  }
 },
 "nbformat": 4,
 "nbformat_minor": 4
}
