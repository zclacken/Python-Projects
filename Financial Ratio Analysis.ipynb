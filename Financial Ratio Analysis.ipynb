{
 "cells": [
  {
   "cell_type": "code",
   "execution_count": 535,
   "metadata": {},
   "outputs": [],
   "source": [
    "import pandas as pd\n",
    "import numpy as np "
   ]
  },
  {
   "cell_type": "code",
   "execution_count": 536,
   "metadata": {},
   "outputs": [],
   "source": [
    "#Balance Sheet Data \n",
    "\n",
    "#Assets Data\n",
    "Assetrows = (\"Cash and equivalents\", \"Accounts receivable\",\n",
    "                     \"Inventory\", \"Total current assets\", \"Net fixed assets\",\n",
    "                     \"Total Assets\") \n",
    "PreviousYearAssetData = (135,390,220,745,814,1559)\n",
    "CurrentYearAssetData = (120,480,290,890,973,1863)\n",
    "\n",
    "#Liability Data \n",
    "Liabilityrows = (\"Accounts Payable\",\"Notes Payable\", \"Accrued Liabilities\", \n",
    "                  \"Total Current Liabilities\", \"Long-term Debt\")\n",
    "PreviousYearLiabilityData = (150,27,30,207,560)\n",
    "CurrentYearLiabilityData = (115,25,35,175,652) \n",
    "\n",
    "#Equity Data \n",
    "Equityrows = (\"Common Stock\", \"Retained Earnings\", \"Total Equity\", \n",
    "               \"Total Liabilities and Stockholder Equity\")\n",
    "PreviousYearEquityData = (280,512,792,1559)\n",
    "CurrentYearEquityData = (280,756,1036,1863)"
   ]
  },
  {
   "cell_type": "code",
   "execution_count": 537,
   "metadata": {},
   "outputs": [
    {
     "data": {
      "text/plain": [
       "('Cash and equivalents',\n",
       " 'Accounts receivable',\n",
       " 'Inventory',\n",
       " 'Total current assets',\n",
       " 'Net fixed assets',\n",
       " 'Total Assets',\n",
       " 'Accounts Payable',\n",
       " 'Notes Payable',\n",
       " 'Accrued Liabilities',\n",
       " 'Total Current Liabilities',\n",
       " 'Long-term Debt',\n",
       " 'Common Stock',\n",
       " 'Retained Earnings',\n",
       " 'Total Equity',\n",
       " 'Total Liabilities and Stockholder Equity')"
      ]
     },
     "execution_count": 537,
     "metadata": {},
     "output_type": "execute_result"
    }
   ],
   "source": [
    "#Combine row names into one list\n",
    "Rownames = (Assetrows + Liabilityrows + Equityrows)\n",
    "#Rownames = np.array(Rownames).reshape(1,15)\n",
    "Rownames"
   ]
  },
  {
   "cell_type": "code",
   "execution_count": 538,
   "metadata": {},
   "outputs": [
    {
     "data": {
      "text/plain": [
       "(135, 390, 220, 745, 814, 1559, 150, 27, 30, 207, 560, 280, 512, 792, 1559)"
      ]
     },
     "execution_count": 538,
     "metadata": {},
     "output_type": "execute_result"
    }
   ],
   "source": [
    "#Combine Previous Year Data into One List\n",
    "Previous_Year = (PreviousYearAssetData + PreviousYearLiabilityData + PreviousYearEquityData)\n",
    "#Previous_Year = np.array(Previous_Year).reshape(1,15)\n",
    "Previous_Year"
   ]
  },
  {
   "cell_type": "code",
   "execution_count": 539,
   "metadata": {},
   "outputs": [
    {
     "data": {
      "text/plain": [
       "(120, 480, 290, 890, 973, 1863, 115, 25, 35, 175, 652, 280, 756, 1036, 1863)"
      ]
     },
     "execution_count": 539,
     "metadata": {},
     "output_type": "execute_result"
    }
   ],
   "source": [
    "#Combine Current Year Data into One List \n",
    "Current_Year = (CurrentYearAssetData + CurrentYearLiabilityData + CurrentYearEquityData)\n",
    "#Current_Year = np.array(Current_Year).reshape(1,15)\n",
    "Current_Year"
   ]
  },
  {
   "cell_type": "code",
   "execution_count": 540,
   "metadata": {},
   "outputs": [
    {
     "name": "stdout",
     "output_type": "stream",
     "text": [
      "[['Cash and equivalents' '135' '120']\n",
      " ['Accounts receivable' '390' '480']\n",
      " ['Inventory' '220' '290']\n",
      " ['Total current assets' '745' '890']\n",
      " ['Net fixed assets' '814' '973']\n",
      " ['Total Assets' '1559' '1863']\n",
      " ['Accounts Payable' '150' '115']\n",
      " ['Notes Payable' '27' '25']\n",
      " ['Accrued Liabilities' '30' '35']\n",
      " ['Total Current Liabilities' '207' '175']\n",
      " ['Long-term Debt' '560' '652']\n",
      " ['Common Stock' '280' '280']\n",
      " ['Retained Earnings' '512' '756']\n",
      " ['Total Equity' '792' '1036']\n",
      " ['Total Liabilities and Stockholder Equity' '1559' '1863']]\n"
     ]
    }
   ],
   "source": [
    "#Create a Balance Sheet Matrix \n",
    "Balancesheet = np.concatenate((Rownames, Previous_Year ,Current_Year)).reshape((15,3),order = \"F\")\n",
    "print(Balancesheet)"
   ]
  },
  {
   "cell_type": "code",
   "execution_count": 541,
   "metadata": {},
   "outputs": [
    {
     "data": {
      "text/html": [
       "<div>\n",
       "<style scoped>\n",
       "    .dataframe tbody tr th:only-of-type {\n",
       "        vertical-align: middle;\n",
       "    }\n",
       "\n",
       "    .dataframe tbody tr th {\n",
       "        vertical-align: top;\n",
       "    }\n",
       "\n",
       "    .dataframe thead th {\n",
       "        text-align: right;\n",
       "    }\n",
       "</style>\n",
       "<table border=\"1\" class=\"dataframe\">\n",
       "  <thead>\n",
       "    <tr style=\"text-align: right;\">\n",
       "      <th></th>\n",
       "      <th>Previous Year</th>\n",
       "      <th>Current Year</th>\n",
       "    </tr>\n",
       "  </thead>\n",
       "  <tbody>\n",
       "    <tr>\n",
       "      <th>Cash and equivalents</th>\n",
       "      <td>135</td>\n",
       "      <td>120</td>\n",
       "    </tr>\n",
       "    <tr>\n",
       "      <th>Accounts receivable</th>\n",
       "      <td>390</td>\n",
       "      <td>480</td>\n",
       "    </tr>\n",
       "    <tr>\n",
       "      <th>Inventory</th>\n",
       "      <td>220</td>\n",
       "      <td>290</td>\n",
       "    </tr>\n",
       "    <tr>\n",
       "      <th>Total current assets</th>\n",
       "      <td>745</td>\n",
       "      <td>890</td>\n",
       "    </tr>\n",
       "    <tr>\n",
       "      <th>Net fixed assets</th>\n",
       "      <td>814</td>\n",
       "      <td>973</td>\n",
       "    </tr>\n",
       "    <tr>\n",
       "      <th>Total Assets</th>\n",
       "      <td>1559</td>\n",
       "      <td>1863</td>\n",
       "    </tr>\n",
       "    <tr>\n",
       "      <th>Accounts Payable</th>\n",
       "      <td>150</td>\n",
       "      <td>115</td>\n",
       "    </tr>\n",
       "    <tr>\n",
       "      <th>Notes Payable</th>\n",
       "      <td>27</td>\n",
       "      <td>25</td>\n",
       "    </tr>\n",
       "    <tr>\n",
       "      <th>Accrued Liabilities</th>\n",
       "      <td>30</td>\n",
       "      <td>35</td>\n",
       "    </tr>\n",
       "    <tr>\n",
       "      <th>Total Current Liabilities</th>\n",
       "      <td>207</td>\n",
       "      <td>175</td>\n",
       "    </tr>\n",
       "    <tr>\n",
       "      <th>Long-term Debt</th>\n",
       "      <td>560</td>\n",
       "      <td>652</td>\n",
       "    </tr>\n",
       "    <tr>\n",
       "      <th>Common Stock</th>\n",
       "      <td>280</td>\n",
       "      <td>280</td>\n",
       "    </tr>\n",
       "    <tr>\n",
       "      <th>Retained Earnings</th>\n",
       "      <td>512</td>\n",
       "      <td>756</td>\n",
       "    </tr>\n",
       "    <tr>\n",
       "      <th>Total Equity</th>\n",
       "      <td>792</td>\n",
       "      <td>1036</td>\n",
       "    </tr>\n",
       "    <tr>\n",
       "      <th>Total Liabilities and Stockholder Equity</th>\n",
       "      <td>1559</td>\n",
       "      <td>1863</td>\n",
       "    </tr>\n",
       "  </tbody>\n",
       "</table>\n",
       "</div>"
      ],
      "text/plain": [
       "                                         Previous Year Current Year\n",
       "Cash and equivalents                               135          120\n",
       "Accounts receivable                                390          480\n",
       "Inventory                                          220          290\n",
       "Total current assets                               745          890\n",
       "Net fixed assets                                   814          973\n",
       "Total Assets                                      1559         1863\n",
       "Accounts Payable                                   150          115\n",
       "Notes Payable                                       27           25\n",
       "Accrued Liabilities                                 30           35\n",
       "Total Current Liabilities                          207          175\n",
       "Long-term Debt                                     560          652\n",
       "Common Stock                                       280          280\n",
       "Retained Earnings                                  512          756\n",
       "Total Equity                                       792         1036\n",
       "Total Liabilities and Stockholder Equity          1559         1863"
      ]
     },
     "execution_count": 541,
     "metadata": {},
     "output_type": "execute_result"
    }
   ],
   "source": [
    "#Convert Balance Sheet Matrix into a Data Frame\n",
    "Balancesheet = pd.DataFrame(Balancesheet)\n",
    "Balancesheet.columns = (\"Element\", \"Previous Year\", \"Current Year\")\n",
    "Balancesheet = Balancesheet.drop(columns = \"Element\")\n",
    "Balancesheet.index = list(Rownames)  #Changes the name of the row indexes \n",
    "Balancesheet"
   ]
  },
  {
   "cell_type": "code",
   "execution_count": null,
   "metadata": {},
   "outputs": [],
   "source": []
  },
  {
   "cell_type": "code",
   "execution_count": 542,
   "metadata": {},
   "outputs": [],
   "source": [
    "#Create Function to calculate financial ratios\n",
    "def financialratioscalc(CA,CL,Inventory,EBIT,Interest_Expense,TA,TD,TE,\n",
    "                        Sales,Net_Income,Gross_Profit,\n",
    "                        Market_Price,Shares,Earnings_Per_Share):\n",
    "    Current_Ratio = CA/CL\n",
    "    Quick_Ratio = (CA-Inventory)/CL\n",
    "    Interest_Coverage_Ratio = EBIT/Interest_Expense    \n",
    "    Debt_Ratio = TD/TA\n",
    "    Debt_Equity_Ratio = TD/TE\n",
    "    Equity_Multiplier = TA/TE\n",
    "    Total_Asset_Turnover = Sales/TA\n",
    "    Profit_Margin = Net_Income/Sales\n",
    "    Gross_Profit_Margin = Gross_Profit/Sales\n",
    "    Operating_Profit_Margin = EBIT/Sales\n",
    "    Return_On_Assets = Net_Income/TA\n",
    "    Return_On_Equity = Net_Income/TE\n",
    "    PE_Ratio = Market_Price/Earnings_Per_Share\n",
    "    RatioNames = (\"Current Ratio\", \"Quick Ratio\", \"Interest Coverage Ratio\",\n",
    "                 \"Debt Ratio\",\"Debt-Equity Ratio\",\"Equity Multiplier\",\n",
    "                 \"Total Asset Turnover\", \"Profit Margin\", \"Gross Profit Margin\",\n",
    "                 \"Operating Profit Margin\",\"Return on Assets\",\"Return on Equity\",\"PE Ratio\")\n",
    "    Ratios = [Current_Ratio,Quick_Ratio,Interest_Coverage_Ratio,\n",
    "              Debt_Ratio,Debt_Equity_Ratio,Equity_Multiplier,\n",
    "              Total_Asset_Turnover,Profit_Margin,Gross_Profit_Margin,\n",
    "              Operating_Profit_Margin,Return_On_Assets,Return_On_Equity,\n",
    "              PE_Ratio]\n",
    "    Ratios = np.round(Ratios,2)\n",
    "    Financial_Ratios = np.concatenate([RatioNames,Ratios]).reshape(13,2, order = \"F\")\n",
    "    Financial_Ratios = pd.DataFrame(Financial_Ratios)\n",
    "    Financial_Ratios.columns = (\"Type\",\"Ratio\")\n",
    "    print(Financial_Ratios)\n",
    "    \n",
    "    "
   ]
  },
  {
   "cell_type": "code",
   "execution_count": null,
   "metadata": {},
   "outputs": [],
   "source": []
  },
  {
   "cell_type": "code",
   "execution_count": 543,
   "metadata": {},
   "outputs": [
    {
     "data": {
      "text/html": [
       "<div>\n",
       "<style scoped>\n",
       "    .dataframe tbody tr th:only-of-type {\n",
       "        vertical-align: middle;\n",
       "    }\n",
       "\n",
       "    .dataframe tbody tr th {\n",
       "        vertical-align: top;\n",
       "    }\n",
       "\n",
       "    .dataframe thead th {\n",
       "        text-align: right;\n",
       "    }\n",
       "</style>\n",
       "<table border=\"1\" class=\"dataframe\">\n",
       "  <thead>\n",
       "    <tr style=\"text-align: right;\">\n",
       "      <th></th>\n",
       "      <th>Previous Year</th>\n",
       "      <th>Current Year</th>\n",
       "    </tr>\n",
       "  </thead>\n",
       "  <tbody>\n",
       "    <tr>\n",
       "      <th>Cash and equivalents</th>\n",
       "      <td>135</td>\n",
       "      <td>120</td>\n",
       "    </tr>\n",
       "    <tr>\n",
       "      <th>Accounts receivable</th>\n",
       "      <td>390</td>\n",
       "      <td>480</td>\n",
       "    </tr>\n",
       "    <tr>\n",
       "      <th>Inventory</th>\n",
       "      <td>220</td>\n",
       "      <td>290</td>\n",
       "    </tr>\n",
       "    <tr>\n",
       "      <th>Total current assets</th>\n",
       "      <td>745</td>\n",
       "      <td>890</td>\n",
       "    </tr>\n",
       "    <tr>\n",
       "      <th>Net fixed assets</th>\n",
       "      <td>814</td>\n",
       "      <td>973</td>\n",
       "    </tr>\n",
       "    <tr>\n",
       "      <th>Total Assets</th>\n",
       "      <td>1559</td>\n",
       "      <td>1863</td>\n",
       "    </tr>\n",
       "    <tr>\n",
       "      <th>Accounts Payable</th>\n",
       "      <td>150</td>\n",
       "      <td>115</td>\n",
       "    </tr>\n",
       "    <tr>\n",
       "      <th>Notes Payable</th>\n",
       "      <td>27</td>\n",
       "      <td>25</td>\n",
       "    </tr>\n",
       "    <tr>\n",
       "      <th>Accrued Liabilities</th>\n",
       "      <td>30</td>\n",
       "      <td>35</td>\n",
       "    </tr>\n",
       "    <tr>\n",
       "      <th>Total Current Liabilities</th>\n",
       "      <td>207</td>\n",
       "      <td>175</td>\n",
       "    </tr>\n",
       "    <tr>\n",
       "      <th>Long-term Debt</th>\n",
       "      <td>560</td>\n",
       "      <td>652</td>\n",
       "    </tr>\n",
       "    <tr>\n",
       "      <th>Common Stock</th>\n",
       "      <td>280</td>\n",
       "      <td>280</td>\n",
       "    </tr>\n",
       "    <tr>\n",
       "      <th>Retained Earnings</th>\n",
       "      <td>512</td>\n",
       "      <td>756</td>\n",
       "    </tr>\n",
       "    <tr>\n",
       "      <th>Total Equity</th>\n",
       "      <td>792</td>\n",
       "      <td>1036</td>\n",
       "    </tr>\n",
       "    <tr>\n",
       "      <th>Total Liabilities and Stockholder Equity</th>\n",
       "      <td>1559</td>\n",
       "      <td>1863</td>\n",
       "    </tr>\n",
       "  </tbody>\n",
       "</table>\n",
       "</div>"
      ],
      "text/plain": [
       "                                         Previous Year Current Year\n",
       "Cash and equivalents                               135          120\n",
       "Accounts receivable                                390          480\n",
       "Inventory                                          220          290\n",
       "Total current assets                               745          890\n",
       "Net fixed assets                                   814          973\n",
       "Total Assets                                      1559         1863\n",
       "Accounts Payable                                   150          115\n",
       "Notes Payable                                       27           25\n",
       "Accrued Liabilities                                 30           35\n",
       "Total Current Liabilities                          207          175\n",
       "Long-term Debt                                     560          652\n",
       "Common Stock                                       280          280\n",
       "Retained Earnings                                  512          756\n",
       "Total Equity                                       792         1036\n",
       "Total Liabilities and Stockholder Equity          1559         1863"
      ]
     },
     "execution_count": 543,
     "metadata": {},
     "output_type": "execute_result"
    }
   ],
   "source": [
    "#Current Year Income Sheet Data \n",
    "Sales = 2895\n",
    "COGS = 1530\n",
    "Other_operating_expenses = 558\n",
    "Depreciation = 200\n",
    "EBIT = 607\n",
    "Interest_expense = 87\n",
    "Pretax_income = 20\n",
    "Taxes = 114\n",
    "Net_income = 406  \n",
    "\n",
    "#Market Data \n",
    "Shares_Outstanding_Previous_Year = 200\n",
    "Shares_Outstanding_Current_Year = 200\n",
    "Market_Price_Per_Share_Previous_Year = 29\n",
    "Market_Price_Per_Share_Current_Year = 32.5  \n",
    "\n",
    "\n",
    "Balancesheet"
   ]
  },
  {
   "cell_type": "code",
   "execution_count": 544,
   "metadata": {},
   "outputs": [
    {
     "name": "stdout",
     "output_type": "stream",
     "text": [
      "                       Type  Ratio\n",
      "0             Current Ratio   5.09\n",
      "1               Quick Ratio   3.43\n",
      "2   Interest Coverage Ratio   6.98\n",
      "3                Debt Ratio   0.44\n",
      "4         Debt-Equity Ratio    0.8\n",
      "5         Equity Multiplier    1.8\n",
      "6      Total Asset Turnover   1.55\n",
      "7             Profit Margin   0.14\n",
      "8       Gross Profit Margin   0.47\n",
      "9   Operating Profit Margin   0.21\n",
      "10         Return on Assets   0.22\n",
      "11         Return on Equity   0.39\n",
      "12                 PE Ratio  16.01\n"
     ]
    }
   ],
   "source": [
    "#Run Function\n",
    "Financial_Ratios = financialratioscalc(890,175,290,607,87,1863,175+652,1036,\n",
    "                        2895,406,Sales-COGS,\n",
    "                        32.5,200,Net_income/Shares_Outstanding_Current_Year)\n",
    "Financial_Ratios"
   ]
  },
  {
   "cell_type": "code",
   "execution_count": null,
   "metadata": {},
   "outputs": [],
   "source": []
  },
  {
   "cell_type": "code",
   "execution_count": null,
   "metadata": {},
   "outputs": [],
   "source": []
  }
 ],
 "metadata": {
  "kernelspec": {
   "display_name": "Python 3",
   "language": "python",
   "name": "python3"
  },
  "language_info": {
   "codemirror_mode": {
    "name": "ipython",
    "version": 3
   },
   "file_extension": ".py",
   "mimetype": "text/x-python",
   "name": "python",
   "nbconvert_exporter": "python",
   "pygments_lexer": "ipython3",
   "version": "3.8.3"
  }
 },
 "nbformat": 4,
 "nbformat_minor": 4
}
