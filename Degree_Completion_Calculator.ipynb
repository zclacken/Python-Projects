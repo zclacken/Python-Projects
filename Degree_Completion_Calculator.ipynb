{
 "cells": [
  {
   "cell_type": "code",
   "execution_count": null,
   "metadata": {},
   "outputs": [],
   "source": [
    "#Code written by Zara Clacken"
   ]
  },
  {
   "cell_type": "code",
   "execution_count": 19,
   "metadata": {},
   "outputs": [],
   "source": [
    "#Calculator for the number of students earning degrees\n",
    "#x1 - number of children in single parent homes\n",
    "#x2 - population living in poverty\n",
    "#x3 - 1:Non-White; 0:White      \n",
    "intercept = 1259598.61096568 #the y-intercept:degree completion when all variables equal 0\n",
    "a  = 0.0218997656980181 #coefficient for the number of children living in single parent homes\n",
    "b = 0.0603856016768747  #coefficient for the poverty population \n",
    "c = 1188965.39114683    #coefficient for race  \n",
    "def graduates(x1,x2,x3):\n",
    "    y = round((intercept - a*x1 + b*x2 - c*x3),)  \n",
    "    print(y)\n"
   ]
  },
  {
   "cell_type": "code",
   "execution_count": 20,
   "metadata": {},
   "outputs": [
    {
     "name": "stdout",
     "output_type": "stream",
     "text": [
      "1271457\n"
     ]
    }
   ],
   "source": [
    "graduates(10000,200000,0)"
   ]
  },
  {
   "cell_type": "code",
   "execution_count": null,
   "metadata": {},
   "outputs": [],
   "source": [
    "\n"
   ]
  }
 ],
 "metadata": {
  "kernelspec": {
   "display_name": "Python 3",
   "language": "python",
   "name": "python3"
  },
  "language_info": {
   "codemirror_mode": {
    "name": "ipython",
    "version": 3
   },
   "file_extension": ".py",
   "mimetype": "text/x-python",
   "name": "python",
   "nbconvert_exporter": "python",
   "pygments_lexer": "ipython3",
   "version": "3.8.3"
  }
 },
 "nbformat": 4,
 "nbformat_minor": 4
}
