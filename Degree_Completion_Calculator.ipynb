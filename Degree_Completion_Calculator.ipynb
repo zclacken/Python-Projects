{
 "cells": [
  {
   "cell_type": "code",
   "execution_count": null,
   "metadata": {},
   "outputs": [],
   "source": [
    "#Code written by Zara Clacken"
   ]
  },
  {
   "cell_type": "code",
   "execution_count": 21,
   "metadata": {},
   "outputs": [],
   "source": [
    "#x1 - number of children in single parent homes\n",
    "#x2 - population living in poverty\n",
    "#x3 - 1:Non-White; 0:White      \n",
    "#the y-intercept: degree completion when all variables equal 0\n",
    "#a: coefficient for the number of children living in single parent homes\n",
    "#b: coefficient for the population in poverty \n",
    "#c: coefficient for race\n",
    "\n",
    "intercept = 1259598.61096568 \n",
    "a  = 0.0218997656980181 \n",
    "b = 0.0603856016768747  \n",
    "c = 1188965.39114683\n",
    "def graduates(x1,x2,x3):\n",
    "    y = round((intercept - a*x1 + b*x2 - c*x3),)  \n",
    "    print(y)\n"
   ]
  },
  {
   "cell_type": "code",
   "execution_count": 22,
   "metadata": {},
   "outputs": [
    {
     "name": "stdout",
     "output_type": "stream",
     "text": [
      "1271457\n"
     ]
    }
   ],
   "source": [
    "#Sample use of the function \n",
    "graduates(10000,200000,0)"
   ]
  },
  {
   "cell_type": "code",
   "execution_count": null,
   "metadata": {},
   "outputs": [],
   "source": [
    "\n"
   ]
  }
 ],
 "metadata": {
  "kernelspec": {
   "display_name": "Python 3",
   "language": "python",
   "name": "python3"
  },
  "language_info": {
   "codemirror_mode": {
    "name": "ipython",
    "version": 3
   },
   "file_extension": ".py",
   "mimetype": "text/x-python",
   "name": "python",
   "nbconvert_exporter": "python",
   "pygments_lexer": "ipython3",
   "version": "3.8.3"
  }
 },
 "nbformat": 4,
 "nbformat_minor": 4
}
