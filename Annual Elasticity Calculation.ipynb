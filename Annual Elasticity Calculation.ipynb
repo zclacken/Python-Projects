{
 "cells": [
  {
   "cell_type": "code",
   "execution_count": 336,
   "metadata": {},
   "outputs": [],
   "source": [
    "#Tasks:  \n",
    "#1 Calculate annual elasticities for Price v. Enrollment \n",
    "#2 Calculate Tuition v. credit hour "
   ]
  },
  {
   "cell_type": "code",
   "execution_count": 337,
   "metadata": {},
   "outputs": [],
   "source": [
    "#Import Relevant Libraries \n",
    "import numpy as np\n",
    "import pandas as pd\n",
    "#Ignore warnings since division by 0 is sometimes expected in Elasticity calculations\n",
    "import warnings\n",
    "warnings.filterwarnings('ignore',message=\"divide by zero encountered in divide\")"
   ]
  },
  {
   "cell_type": "markdown",
   "metadata": {},
   "source": [
    "# Create Data Vectors"
   ]
  },
  {
   "cell_type": "code",
   "execution_count": 338,
   "metadata": {},
   "outputs": [],
   "source": [
    "#Create a Vector for year\n",
    "Year = []\n",
    "yrange = range(2000,2021) #Remember, Python indexes from 0 so upper limit is n2 + 1 \n",
    "for y in yrange:\n",
    "    Year.append(y)"
   ]
  },
  {
   "cell_type": "code",
   "execution_count": 339,
   "metadata": {},
   "outputs": [
    {
     "name": "stdout",
     "output_type": "stream",
     "text": [
      "[2000, 2001, 2002, 2003, 2004, 2005, 2006, 2007, 2008, 2009, 2010, 2011, 2012, 2013, 2014, 2015, 2016, 2017, 2018, 2019, 2020]\n"
     ]
    },
    {
     "data": {
      "text/plain": [
       "21"
      ]
     },
     "execution_count": 339,
     "metadata": {},
     "output_type": "execute_result"
    }
   ],
   "source": [
    "#Check Year Vector \n",
    "print(Year)\n",
    "len(Year) #count elements "
   ]
  },
  {
   "cell_type": "code",
   "execution_count": 340,
   "metadata": {},
   "outputs": [],
   "source": [
    "#Create a Vector for Enrollment\n",
    "Enrollment = [3422,\t3419,\t3543,\t3655,\t3910,\t3940,\t3594,\t3556,\t3903,\t4220,\t4058,\t4134,\t4124,\t3674,\t3202,\t2775,\t2587,\t2637,\t2511,\t2577,\t2553,\n",
    "]"
   ]
  },
  {
   "cell_type": "code",
   "execution_count": 341,
   "metadata": {},
   "outputs": [
    {
     "name": "stdout",
     "output_type": "stream",
     "text": [
      "[3422, 3419, 3543, 3655, 3910, 3940, 3594, 3556, 3903, 4220, 4058, 4134, 4124, 3674, 3202, 2775, 2587, 2637, 2511, 2577, 2553]\n"
     ]
    },
    {
     "data": {
      "text/plain": [
       "21"
      ]
     },
     "execution_count": 341,
     "metadata": {},
     "output_type": "execute_result"
    }
   ],
   "source": [
    "#Check Enrollment Vector \n",
    "print(Enrollment)\n",
    "len(Enrollment) #count elements"
   ]
  },
  {
   "cell_type": "code",
   "execution_count": 342,
   "metadata": {},
   "outputs": [],
   "source": [
    "#Create a Vector for Credits \n",
    "Credits = [90624,\t94446,\t96039,\t101352,\t101868,\t100181,\t92486,\t92123,\t94639,\t101972,\t98137,\t98372,\t93163,\t85292,\t87907,\t91021,\t94077,\t115340,\t137467,\t165057,\t191712,\n",
    "]"
   ]
  },
  {
   "cell_type": "code",
   "execution_count": 343,
   "metadata": {},
   "outputs": [
    {
     "name": "stdout",
     "output_type": "stream",
     "text": [
      "[90624, 94446, 96039, 101352, 101868, 100181, 92486, 92123, 94639, 101972, 98137, 98372, 93163, 85292, 87907, 91021, 94077, 115340, 137467, 165057, 191712]\n"
     ]
    },
    {
     "data": {
      "text/plain": [
       "21"
      ]
     },
     "execution_count": 343,
     "metadata": {},
     "output_type": "execute_result"
    }
   ],
   "source": [
    "#Check Credits Vector\n",
    "print(Credits)\n",
    "len(Credits) #count elements "
   ]
  },
  {
   "cell_type": "code",
   "execution_count": 344,
   "metadata": {},
   "outputs": [],
   "source": [
    "#Create a Price (Tuition and Fees) Vector \n",
    "Price = [1025,\t1150,\t1184,\t1442,\t1545,\t1621,\t1667,\t1667,\t1751,\t1867,\t2062,\t2247,\t2472,\t2803,\t3084,\t3355,\t3417,\t3417,\t3663,\t3663,\t3663,\n",
    "]"
   ]
  },
  {
   "cell_type": "code",
   "execution_count": 345,
   "metadata": {},
   "outputs": [
    {
     "name": "stdout",
     "output_type": "stream",
     "text": [
      "[1025, 1150, 1184, 1442, 1545, 1621, 1667, 1667, 1751, 1867, 2062, 2247, 2472, 2803, 3084, 3355, 3417, 3417, 3663, 3663, 3663]\n"
     ]
    },
    {
     "data": {
      "text/plain": [
       "21"
      ]
     },
     "execution_count": 345,
     "metadata": {},
     "output_type": "execute_result"
    }
   ],
   "source": [
    "#Check Price Vector\n",
    "print(Price)\n",
    "len(Price)"
   ]
  },
  {
   "cell_type": "markdown",
   "metadata": {},
   "source": [
    "# Merge Vectors into a Data Frame"
   ]
  },
  {
   "cell_type": "code",
   "execution_count": 346,
   "metadata": {},
   "outputs": [
    {
     "name": "stdout",
     "output_type": "stream",
     "text": [
      "[[  2000   1025   3422  90624]\n",
      " [  2001   1150   3419  94446]\n",
      " [  2002   1184   3543  96039]\n",
      " [  2003   1442   3655 101352]\n",
      " [  2004   1545   3910 101868]\n",
      " [  2005   1621   3940 100181]\n",
      " [  2006   1667   3594  92486]\n",
      " [  2007   1667   3556  92123]\n",
      " [  2008   1751   3903  94639]\n",
      " [  2009   1867   4220 101972]\n",
      " [  2010   2062   4058  98137]\n",
      " [  2011   2247   4134  98372]\n",
      " [  2012   2472   4124  93163]\n",
      " [  2013   2803   3674  85292]\n",
      " [  2014   3084   3202  87907]\n",
      " [  2015   3355   2775  91021]\n",
      " [  2016   3417   2587  94077]\n",
      " [  2017   3417   2637 115340]\n",
      " [  2018   3663   2511 137467]\n",
      " [  2019   3663   2577 165057]\n",
      " [  2020   3663   2553 191712]]\n"
     ]
    }
   ],
   "source": [
    "#Create an Array from the Vectors \n",
    "data = np.hstack((Year,Price,Enrollment,Credits)).reshape(21,4,order =\"F\")\n",
    "print(data)"
   ]
  },
  {
   "cell_type": "code",
   "execution_count": 347,
   "metadata": {},
   "outputs": [
    {
     "data": {
      "text/html": [
       "<div>\n",
       "<style scoped>\n",
       "    .dataframe tbody tr th:only-of-type {\n",
       "        vertical-align: middle;\n",
       "    }\n",
       "\n",
       "    .dataframe tbody tr th {\n",
       "        vertical-align: top;\n",
       "    }\n",
       "\n",
       "    .dataframe thead th {\n",
       "        text-align: right;\n",
       "    }\n",
       "</style>\n",
       "<table border=\"1\" class=\"dataframe\">\n",
       "  <thead>\n",
       "    <tr style=\"text-align: right;\">\n",
       "      <th></th>\n",
       "      <th>Year</th>\n",
       "      <th>Price</th>\n",
       "      <th>Enrollment</th>\n",
       "      <th>Credits</th>\n",
       "    </tr>\n",
       "  </thead>\n",
       "  <tbody>\n",
       "    <tr>\n",
       "      <th>0</th>\n",
       "      <td>2000</td>\n",
       "      <td>1025</td>\n",
       "      <td>3422</td>\n",
       "      <td>90624</td>\n",
       "    </tr>\n",
       "    <tr>\n",
       "      <th>1</th>\n",
       "      <td>2001</td>\n",
       "      <td>1150</td>\n",
       "      <td>3419</td>\n",
       "      <td>94446</td>\n",
       "    </tr>\n",
       "    <tr>\n",
       "      <th>2</th>\n",
       "      <td>2002</td>\n",
       "      <td>1184</td>\n",
       "      <td>3543</td>\n",
       "      <td>96039</td>\n",
       "    </tr>\n",
       "    <tr>\n",
       "      <th>3</th>\n",
       "      <td>2003</td>\n",
       "      <td>1442</td>\n",
       "      <td>3655</td>\n",
       "      <td>101352</td>\n",
       "    </tr>\n",
       "    <tr>\n",
       "      <th>4</th>\n",
       "      <td>2004</td>\n",
       "      <td>1545</td>\n",
       "      <td>3910</td>\n",
       "      <td>101868</td>\n",
       "    </tr>\n",
       "  </tbody>\n",
       "</table>\n",
       "</div>"
      ],
      "text/plain": [
       "   Year  Price  Enrollment  Credits\n",
       "0  2000   1025        3422    90624\n",
       "1  2001   1150        3419    94446\n",
       "2  2002   1184        3543    96039\n",
       "3  2003   1442        3655   101352\n",
       "4  2004   1545        3910   101868"
      ]
     },
     "execution_count": 347,
     "metadata": {},
     "output_type": "execute_result"
    }
   ],
   "source": [
    "LSUSdata = pd.DataFrame(data, columns = [\"Year\",\"Price\",\"Enrollment\",\"Credits\"])\n",
    "LSUSdata.head()"
   ]
  },
  {
   "cell_type": "markdown",
   "metadata": {},
   "source": [
    "# Elasticity Calculation Function"
   ]
  },
  {
   "cell_type": "code",
   "execution_count": 329,
   "metadata": {},
   "outputs": [],
   "source": [
    "#Formulas\n",
    "#Elasticity = %change in Q/%change in P \n",
    "#%change = (x2-x1)/x1"
   ]
  },
  {
   "cell_type": "code",
   "execution_count": 348,
   "metadata": {},
   "outputs": [
    {
     "data": {
      "text/plain": [
       "2002"
      ]
     },
     "execution_count": 348,
     "metadata": {},
     "output_type": "execute_result"
    }
   ],
   "source": [
    "#Check how to call elements by row label and column name\n",
    "LSUSdata.loc[2,\"Year\"]"
   ]
  },
  {
   "cell_type": "code",
   "execution_count": 363,
   "metadata": {},
   "outputs": [],
   "source": [
    "#Function to calculate elasticites and insert them into the data frame \n",
    "df = LSUSdata\n",
    "irange = range(1,21)\n",
    "Elasticity1 = []\n",
    "Elasticity2 = []\n",
    "def elasticityfunc(Q1,Q2,P,elasticity1name,elasticity2name,dfrename):\n",
    "    for i in irange:\n",
    "        Q1percentchange = ((df.loc[i,Q1] - df.loc[i-1,Q1])/df.loc[i-1,Q1])\n",
    "        Q2percentchange = ((df.loc[i,Q2] - df.loc[i-1,Q2])/df.loc[i-1,Q2])\n",
    "        Ppercentchange = ((df.loc[i,P] - df.loc[i-1,P])/df.loc[i-1,P])\n",
    "        E1 = Q1percentchange/Ppercentchange \n",
    "        E2 = Q2percentchange/Ppercentchange\n",
    "        Elasticity1.append(E1)\n",
    "        Elasticity2.append(E2)\n",
    "    Elasticity1.insert(0,\"NULL\")\n",
    "    Elasticity2.insert(0,\"NULL\")\n",
    "    df[elasticity1name] = np.array(Elasticity1)\n",
    "    df[elasticity2name]=  np.array(Elasticity2)\n",
    "    dfrename = df\n",
    "    print(df)"
   ]
  },
  {
   "cell_type": "code",
   "execution_count": 364,
   "metadata": {},
   "outputs": [
    {
     "name": "stdout",
     "output_type": "stream",
     "text": [
      "    Year  Price  Enrollment  Credits  Enrollment_Elasticity  \\\n",
      "0   2000   1025        3422    90624                   NULL   \n",
      "1   2001   1150        3419    94446  -0.007188778492109878   \n",
      "2   2002   1184        3543    96039     1.2267088760043356   \n",
      "3   2003   1442        3655   101352    0.14507041945357918   \n",
      "4   2004   1545        3910   101868     0.9767441860465117   \n",
      "5   2005   1621        3940   100181    0.15597657827433034   \n",
      "6   2006   1667        3594    92486     -3.094603840211874   \n",
      "7   2007   1667        3556    92123                   -inf   \n",
      "8   2008   1751        3903    94639      1.936529139214741   \n",
      "9   2009   1867        4220   101972     1.2259954765123202   \n",
      "10  2010   2062        4058    98137   -0.36754648195406486   \n",
      "11  2011   2247        4134    98372     0.2087461537436895   \n",
      "12  2012   2472        4124    93163  -0.024157393968714726   \n",
      "13  2013   2803        3674    85292    -0.8149187865006549   \n",
      "14  2014   3084        3202    87907    -1.2815029920747312   \n",
      "15  2015   3355        2775    91021    -1.5175801102170923   \n",
      "16  2016   3417        2587    94077    -3.6660273176402205   \n",
      "17  2017   3417        2637   115340                    inf   \n",
      "18  2018   3663        2511   137467    -0.6636976608673937   \n",
      "19  2019   3663        2577   165057                    inf   \n",
      "20  2020   3663        2553   191712                   -inf   \n",
      "\n",
      "      Credits_Elasticity  \n",
      "0                   NULL  \n",
      "1    0.34582891949152544  \n",
      "2     0.5704940638347963  \n",
      "3    0.25387748242780245  \n",
      "4    0.07127634383139948  \n",
      "5   -0.33666052352580117  \n",
      "6     -2.706751866078919  \n",
      "7                   -inf  \n",
      "8     0.5419994903294405  \n",
      "9     1.1696063006757802  \n",
      "10  -0.36007596856653457  \n",
      "11  0.026690211615367266  \n",
      "12   -0.5288145678309547  \n",
      "13   -0.6309673981083669  \n",
      "14   0.30583006203683294  \n",
      "15   0.40312546003729116  \n",
      "16    1.8168228459153875  \n",
      "17                   inf  \n",
      "18    2.6647253930056207  \n",
      "19                   inf  \n",
      "20                   inf  \n"
     ]
    }
   ],
   "source": [
    "#Test the Function   \n",
    "elasticityfunc(\"Enrollment\",\"Credits\",\"Price\",\"Enrollment_Elasticity\",\"Credits_Elasticity\",\"LSUSelasticity\")"
   ]
  },
  {
   "cell_type": "code",
   "execution_count": 365,
   "metadata": {},
   "outputs": [
    {
     "data": {
      "text/html": [
       "<div>\n",
       "<style scoped>\n",
       "    .dataframe tbody tr th:only-of-type {\n",
       "        vertical-align: middle;\n",
       "    }\n",
       "\n",
       "    .dataframe tbody tr th {\n",
       "        vertical-align: top;\n",
       "    }\n",
       "\n",
       "    .dataframe thead th {\n",
       "        text-align: right;\n",
       "    }\n",
       "</style>\n",
       "<table border=\"1\" class=\"dataframe\">\n",
       "  <thead>\n",
       "    <tr style=\"text-align: right;\">\n",
       "      <th></th>\n",
       "      <th>Year</th>\n",
       "      <th>Price</th>\n",
       "      <th>Enrollment</th>\n",
       "      <th>Credits</th>\n",
       "      <th>Enrollment_Elasticity</th>\n",
       "      <th>Credits_Elasticity</th>\n",
       "    </tr>\n",
       "  </thead>\n",
       "  <tbody>\n",
       "    <tr>\n",
       "      <th>0</th>\n",
       "      <td>2000</td>\n",
       "      <td>1025</td>\n",
       "      <td>3422</td>\n",
       "      <td>90624</td>\n",
       "      <td>NULL</td>\n",
       "      <td>NULL</td>\n",
       "    </tr>\n",
       "    <tr>\n",
       "      <th>1</th>\n",
       "      <td>2001</td>\n",
       "      <td>1150</td>\n",
       "      <td>3419</td>\n",
       "      <td>94446</td>\n",
       "      <td>-0.007188778492109878</td>\n",
       "      <td>0.34582891949152544</td>\n",
       "    </tr>\n",
       "    <tr>\n",
       "      <th>2</th>\n",
       "      <td>2002</td>\n",
       "      <td>1184</td>\n",
       "      <td>3543</td>\n",
       "      <td>96039</td>\n",
       "      <td>1.2267088760043356</td>\n",
       "      <td>0.5704940638347963</td>\n",
       "    </tr>\n",
       "    <tr>\n",
       "      <th>3</th>\n",
       "      <td>2003</td>\n",
       "      <td>1442</td>\n",
       "      <td>3655</td>\n",
       "      <td>101352</td>\n",
       "      <td>0.14507041945357918</td>\n",
       "      <td>0.25387748242780245</td>\n",
       "    </tr>\n",
       "    <tr>\n",
       "      <th>4</th>\n",
       "      <td>2004</td>\n",
       "      <td>1545</td>\n",
       "      <td>3910</td>\n",
       "      <td>101868</td>\n",
       "      <td>0.9767441860465117</td>\n",
       "      <td>0.07127634383139948</td>\n",
       "    </tr>\n",
       "    <tr>\n",
       "      <th>5</th>\n",
       "      <td>2005</td>\n",
       "      <td>1621</td>\n",
       "      <td>3940</td>\n",
       "      <td>100181</td>\n",
       "      <td>0.15597657827433034</td>\n",
       "      <td>-0.33666052352580117</td>\n",
       "    </tr>\n",
       "    <tr>\n",
       "      <th>6</th>\n",
       "      <td>2006</td>\n",
       "      <td>1667</td>\n",
       "      <td>3594</td>\n",
       "      <td>92486</td>\n",
       "      <td>-3.094603840211874</td>\n",
       "      <td>-2.706751866078919</td>\n",
       "    </tr>\n",
       "    <tr>\n",
       "      <th>7</th>\n",
       "      <td>2007</td>\n",
       "      <td>1667</td>\n",
       "      <td>3556</td>\n",
       "      <td>92123</td>\n",
       "      <td>-inf</td>\n",
       "      <td>-inf</td>\n",
       "    </tr>\n",
       "    <tr>\n",
       "      <th>8</th>\n",
       "      <td>2008</td>\n",
       "      <td>1751</td>\n",
       "      <td>3903</td>\n",
       "      <td>94639</td>\n",
       "      <td>1.936529139214741</td>\n",
       "      <td>0.5419994903294405</td>\n",
       "    </tr>\n",
       "    <tr>\n",
       "      <th>9</th>\n",
       "      <td>2009</td>\n",
       "      <td>1867</td>\n",
       "      <td>4220</td>\n",
       "      <td>101972</td>\n",
       "      <td>1.2259954765123202</td>\n",
       "      <td>1.1696063006757802</td>\n",
       "    </tr>\n",
       "    <tr>\n",
       "      <th>10</th>\n",
       "      <td>2010</td>\n",
       "      <td>2062</td>\n",
       "      <td>4058</td>\n",
       "      <td>98137</td>\n",
       "      <td>-0.36754648195406486</td>\n",
       "      <td>-0.36007596856653457</td>\n",
       "    </tr>\n",
       "    <tr>\n",
       "      <th>11</th>\n",
       "      <td>2011</td>\n",
       "      <td>2247</td>\n",
       "      <td>4134</td>\n",
       "      <td>98372</td>\n",
       "      <td>0.2087461537436895</td>\n",
       "      <td>0.026690211615367266</td>\n",
       "    </tr>\n",
       "    <tr>\n",
       "      <th>12</th>\n",
       "      <td>2012</td>\n",
       "      <td>2472</td>\n",
       "      <td>4124</td>\n",
       "      <td>93163</td>\n",
       "      <td>-0.024157393968714726</td>\n",
       "      <td>-0.5288145678309547</td>\n",
       "    </tr>\n",
       "    <tr>\n",
       "      <th>13</th>\n",
       "      <td>2013</td>\n",
       "      <td>2803</td>\n",
       "      <td>3674</td>\n",
       "      <td>85292</td>\n",
       "      <td>-0.8149187865006549</td>\n",
       "      <td>-0.6309673981083669</td>\n",
       "    </tr>\n",
       "    <tr>\n",
       "      <th>14</th>\n",
       "      <td>2014</td>\n",
       "      <td>3084</td>\n",
       "      <td>3202</td>\n",
       "      <td>87907</td>\n",
       "      <td>-1.2815029920747312</td>\n",
       "      <td>0.30583006203683294</td>\n",
       "    </tr>\n",
       "    <tr>\n",
       "      <th>15</th>\n",
       "      <td>2015</td>\n",
       "      <td>3355</td>\n",
       "      <td>2775</td>\n",
       "      <td>91021</td>\n",
       "      <td>-1.5175801102170923</td>\n",
       "      <td>0.40312546003729116</td>\n",
       "    </tr>\n",
       "    <tr>\n",
       "      <th>16</th>\n",
       "      <td>2016</td>\n",
       "      <td>3417</td>\n",
       "      <td>2587</td>\n",
       "      <td>94077</td>\n",
       "      <td>-3.6660273176402205</td>\n",
       "      <td>1.8168228459153875</td>\n",
       "    </tr>\n",
       "    <tr>\n",
       "      <th>17</th>\n",
       "      <td>2017</td>\n",
       "      <td>3417</td>\n",
       "      <td>2637</td>\n",
       "      <td>115340</td>\n",
       "      <td>inf</td>\n",
       "      <td>inf</td>\n",
       "    </tr>\n",
       "    <tr>\n",
       "      <th>18</th>\n",
       "      <td>2018</td>\n",
       "      <td>3663</td>\n",
       "      <td>2511</td>\n",
       "      <td>137467</td>\n",
       "      <td>-0.6636976608673937</td>\n",
       "      <td>2.6647253930056207</td>\n",
       "    </tr>\n",
       "    <tr>\n",
       "      <th>19</th>\n",
       "      <td>2019</td>\n",
       "      <td>3663</td>\n",
       "      <td>2577</td>\n",
       "      <td>165057</td>\n",
       "      <td>inf</td>\n",
       "      <td>inf</td>\n",
       "    </tr>\n",
       "    <tr>\n",
       "      <th>20</th>\n",
       "      <td>2020</td>\n",
       "      <td>3663</td>\n",
       "      <td>2553</td>\n",
       "      <td>191712</td>\n",
       "      <td>-inf</td>\n",
       "      <td>inf</td>\n",
       "    </tr>\n",
       "  </tbody>\n",
       "</table>\n",
       "</div>"
      ],
      "text/plain": [
       "    Year  Price  Enrollment  Credits  Enrollment_Elasticity  \\\n",
       "0   2000   1025        3422    90624                   NULL   \n",
       "1   2001   1150        3419    94446  -0.007188778492109878   \n",
       "2   2002   1184        3543    96039     1.2267088760043356   \n",
       "3   2003   1442        3655   101352    0.14507041945357918   \n",
       "4   2004   1545        3910   101868     0.9767441860465117   \n",
       "5   2005   1621        3940   100181    0.15597657827433034   \n",
       "6   2006   1667        3594    92486     -3.094603840211874   \n",
       "7   2007   1667        3556    92123                   -inf   \n",
       "8   2008   1751        3903    94639      1.936529139214741   \n",
       "9   2009   1867        4220   101972     1.2259954765123202   \n",
       "10  2010   2062        4058    98137   -0.36754648195406486   \n",
       "11  2011   2247        4134    98372     0.2087461537436895   \n",
       "12  2012   2472        4124    93163  -0.024157393968714726   \n",
       "13  2013   2803        3674    85292    -0.8149187865006549   \n",
       "14  2014   3084        3202    87907    -1.2815029920747312   \n",
       "15  2015   3355        2775    91021    -1.5175801102170923   \n",
       "16  2016   3417        2587    94077    -3.6660273176402205   \n",
       "17  2017   3417        2637   115340                    inf   \n",
       "18  2018   3663        2511   137467    -0.6636976608673937   \n",
       "19  2019   3663        2577   165057                    inf   \n",
       "20  2020   3663        2553   191712                   -inf   \n",
       "\n",
       "      Credits_Elasticity  \n",
       "0                   NULL  \n",
       "1    0.34582891949152544  \n",
       "2     0.5704940638347963  \n",
       "3    0.25387748242780245  \n",
       "4    0.07127634383139948  \n",
       "5   -0.33666052352580117  \n",
       "6     -2.706751866078919  \n",
       "7                   -inf  \n",
       "8     0.5419994903294405  \n",
       "9     1.1696063006757802  \n",
       "10  -0.36007596856653457  \n",
       "11  0.026690211615367266  \n",
       "12   -0.5288145678309547  \n",
       "13   -0.6309673981083669  \n",
       "14   0.30583006203683294  \n",
       "15   0.40312546003729116  \n",
       "16    1.8168228459153875  \n",
       "17                   inf  \n",
       "18    2.6647253930056207  \n",
       "19                   inf  \n",
       "20                   inf  "
      ]
     },
     "execution_count": 365,
     "metadata": {},
     "output_type": "execute_result"
    }
   ],
   "source": [
    "#Check to see if function has added new values to the data frame under its new name\n",
    "LSUSelasticity"
   ]
  },
  {
   "cell_type": "code",
   "execution_count": null,
   "metadata": {},
   "outputs": [],
   "source": []
  },
  {
   "cell_type": "code",
   "execution_count": null,
   "metadata": {},
   "outputs": [],
   "source": []
  }
 ],
 "metadata": {
  "kernelspec": {
   "display_name": "Python 3",
   "language": "python",
   "name": "python3"
  },
  "language_info": {
   "codemirror_mode": {
    "name": "ipython",
    "version": 3
   },
   "file_extension": ".py",
   "mimetype": "text/x-python",
   "name": "python",
   "nbconvert_exporter": "python",
   "pygments_lexer": "ipython3",
   "version": "3.8.3"
  }
 },
 "nbformat": 4,
 "nbformat_minor": 4
}
