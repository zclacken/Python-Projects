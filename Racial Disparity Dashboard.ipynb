{
 "cells": [
  {
   "cell_type": "code",
   "execution_count": 1,
   "metadata": {},
   "outputs": [],
   "source": [
    "##Independent Data Science Project Part 4 by Zara Clacken\n",
    "#Goal: Create a Dashboard for the charts Poverty By Race, U.S. Children in Single-Parent Homes by Race, and Degree Completion By Race"
   ]
  },
  {
   "cell_type": "code",
   "execution_count": 2,
   "metadata": {},
   "outputs": [],
   "source": [
    "#Import Packages\n",
    "import warnings\n",
    "warnings.filterwarnings('ignore')  \n",
    "import numpy as np\n",
    "import pandas as pd \n",
    "from matplotlib import pyplot as plt\n",
    "import seaborn as sns\n",
    "%matplotlib inline"
   ]
  },
  {
   "cell_type": "code",
   "execution_count": 3,
   "metadata": {},
   "outputs": [],
   "source": [
    "#Import Data Frames\n",
    "singleparentkids = pd.read_csv('C:\\\\Users\\zara\\Documents/Data Science Portfolio_Zara Clacken/Created CSV Files/2010-2019_Single_Parent_Children_By_Race.csv')\n",
    "poverty = pd.read_csv('C:\\\\Users\\zara\\Documents/Data Science Portfolio_Zara Clacken/Created CSV Files/2013-2018_Poverty_By_Race.csv')\n",
    "education = pd.read_csv('C:\\\\Users\\zara\\Documents/Data Science Portfolio_Zara Clacken/Created CSV Files/2012-2017_Degrees_Completed_By_Race.csv')"
   ]
  },
  {
   "cell_type": "markdown",
   "metadata": {},
   "source": [
    "---"
   ]
  },
  {
   "cell_type": "code",
   "execution_count": 4,
   "metadata": {},
   "outputs": [],
   "source": [
    "#Children in Single Parent Homes by Race Data Frame"
   ]
  },
  {
   "cell_type": "code",
   "execution_count": 5,
   "metadata": {},
   "outputs": [
    {
     "data": {
      "text/plain": [
       "Index(['Unnamed: 0', 'Race', 'Year', 'Number of Children(Single Parent Homes)',\n",
       "       'Percent of Total Children(Single Parent Homes)'],\n",
       "      dtype='object')"
      ]
     },
     "execution_count": 5,
     "metadata": {},
     "output_type": "execute_result"
    }
   ],
   "source": [
    "singleparentkids.columns"
   ]
  },
  {
   "cell_type": "code",
   "execution_count": 6,
   "metadata": {
    "scrolled": true
   },
   "outputs": [],
   "source": [
    "#Drop Unnamed 0 column\n",
    "#Print Single Parent Children Data Frame\n",
    "singleparentkids = singleparentkids.drop('Unnamed: 0',axis = 1)"
   ]
  },
  {
   "cell_type": "code",
   "execution_count": 7,
   "metadata": {},
   "outputs": [
    {
     "name": "stdout",
     "output_type": "stream",
     "text": [
      "<class 'pandas.core.frame.DataFrame'>\n",
      "RangeIndex: 60 entries, 0 to 59\n",
      "Data columns (total 4 columns):\n",
      " #   Column                                          Non-Null Count  Dtype   \n",
      "---  ------                                          --------------  -----   \n",
      " 0   Race                                            60 non-null     category\n",
      " 1   Year                                            60 non-null     category\n",
      " 2   Number of Children(Single Parent Homes)         60 non-null     int64   \n",
      " 3   Percent of Total Children(Single Parent Homes)  60 non-null     float64 \n",
      "dtypes: category(2), float64(1), int64(1)\n",
      "memory usage: 1.8 KB\n"
     ]
    }
   ],
   "source": [
    "#Change Data Types. Make Race and Year categorical variables.  \n",
    "singleparentkids.Race = singleparentkids.Race.astype('category')\n",
    "singleparentkids.Year = singleparentkids.Year.astype('category')\n",
    "singleparentkids.info('columns')"
   ]
  },
  {
   "cell_type": "code",
   "execution_count": 8,
   "metadata": {},
   "outputs": [
    {
     "data": {
      "text/plain": [
       "[2010, 2011, 2012, 2013, 2014, 2015, 2016, 2017, 2018, 2019]"
      ]
     },
     "execution_count": 8,
     "metadata": {},
     "output_type": "execute_result"
    }
   ],
   "source": [
    "sorted(singleparentkids.Year.unique().tolist())"
   ]
  },
  {
   "cell_type": "code",
   "execution_count": 9,
   "metadata": {},
   "outputs": [],
   "source": [
    "yearlist = [2010, 2011, 2012, 2018, 2019]\n",
    "for y in yearlist:\n",
    "    index_year = singleparentkids[singleparentkids.Year == y].index\n",
    "    singleparentkids.drop(index_year, inplace = True)"
   ]
  },
  {
   "cell_type": "code",
   "execution_count": 10,
   "metadata": {},
   "outputs": [
    {
     "data": {
      "text/plain": [
       "[2013, 2014, 2015, 2016, 2017]"
      ]
     },
     "execution_count": 10,
     "metadata": {},
     "output_type": "execute_result"
    }
   ],
   "source": [
    "sorted(singleparentkids.Year.unique().tolist())"
   ]
  },
  {
   "cell_type": "markdown",
   "metadata": {},
   "source": [
    "---"
   ]
  },
  {
   "cell_type": "code",
   "execution_count": 11,
   "metadata": {},
   "outputs": [],
   "source": [
    "#Poverty Population By Race Data Frame"
   ]
  },
  {
   "cell_type": "code",
   "execution_count": 12,
   "metadata": {},
   "outputs": [
    {
     "data": {
      "text/plain": [
       "Index(['Unnamed: 0', 'Race', 'Year', 'Poverty Population',\n",
       "       'Percent of Total Poverty Population'],\n",
       "      dtype='object')"
      ]
     },
     "execution_count": 12,
     "metadata": {},
     "output_type": "execute_result"
    }
   ],
   "source": [
    "poverty.columns"
   ]
  },
  {
   "cell_type": "code",
   "execution_count": 13,
   "metadata": {
    "scrolled": true
   },
   "outputs": [],
   "source": [
    "poverty = poverty.drop('Unnamed: 0',axis = 1)"
   ]
  },
  {
   "cell_type": "code",
   "execution_count": 14,
   "metadata": {},
   "outputs": [
    {
     "name": "stdout",
     "output_type": "stream",
     "text": [
      "<class 'pandas.core.frame.DataFrame'>\n",
      "RangeIndex: 36 entries, 0 to 35\n",
      "Data columns (total 4 columns):\n",
      " #   Column                               Non-Null Count  Dtype   \n",
      "---  ------                               --------------  -----   \n",
      " 0   Race                                 36 non-null     category\n",
      " 1   Year                                 36 non-null     category\n",
      " 2   Poverty Population                   36 non-null     int64   \n",
      " 3   Percent of Total Poverty Population  36 non-null     float64 \n",
      "dtypes: category(2), float64(1), int64(1)\n",
      "memory usage: 1.2 KB\n"
     ]
    }
   ],
   "source": [
    "#Change Data Types. Make Race and Year categorical variables.  \n",
    "poverty.Race = poverty.Race.astype('category')\n",
    "poverty.Year = poverty.Year.astype('category')\n",
    "poverty.info('columns')"
   ]
  },
  {
   "cell_type": "code",
   "execution_count": 15,
   "metadata": {},
   "outputs": [],
   "source": [
    "poverty.Year = poverty.Year.astype('category')"
   ]
  },
  {
   "cell_type": "code",
   "execution_count": 16,
   "metadata": {},
   "outputs": [
    {
     "data": {
      "text/plain": [
       "[2013, 2014, 2015, 2016, 2017, 2018]\n",
       "Categories (6, int64): [2013, 2014, 2015, 2016, 2017, 2018]"
      ]
     },
     "execution_count": 16,
     "metadata": {},
     "output_type": "execute_result"
    }
   ],
   "source": [
    "poverty.Year.unique()"
   ]
  },
  {
   "cell_type": "code",
   "execution_count": 17,
   "metadata": {},
   "outputs": [],
   "source": [
    "#Show only 2013-2017\n",
    "index_year = poverty[poverty.Year == 2018 ].index\n",
    "poverty.drop(index_year, inplace = True)"
   ]
  },
  {
   "cell_type": "code",
   "execution_count": 18,
   "metadata": {},
   "outputs": [
    {
     "data": {
      "text/plain": [
       "[2013, 2014, 2015, 2016, 2017]"
      ]
     },
     "execution_count": 18,
     "metadata": {},
     "output_type": "execute_result"
    }
   ],
   "source": [
    "poverty.Year.unique().tolist()"
   ]
  },
  {
   "cell_type": "markdown",
   "metadata": {},
   "source": [
    "---"
   ]
  },
  {
   "cell_type": "code",
   "execution_count": 19,
   "metadata": {},
   "outputs": [],
   "source": [
    "#Degrees Completed by Race Data Frame"
   ]
  },
  {
   "cell_type": "code",
   "execution_count": 20,
   "metadata": {},
   "outputs": [
    {
     "data": {
      "text/plain": [
       "Index(['Unnamed: 0', 'Race', 'Year', 'Degrees Completed',\n",
       "       'Percent of Total Degrees'],\n",
       "      dtype='object')"
      ]
     },
     "execution_count": 20,
     "metadata": {},
     "output_type": "execute_result"
    }
   ],
   "source": [
    "education.columns"
   ]
  },
  {
   "cell_type": "code",
   "execution_count": 21,
   "metadata": {
    "scrolled": true
   },
   "outputs": [],
   "source": [
    "education = education.drop('Unnamed: 0',axis = 1)"
   ]
  },
  {
   "cell_type": "code",
   "execution_count": 22,
   "metadata": {},
   "outputs": [
    {
     "name": "stdout",
     "output_type": "stream",
     "text": [
      "<class 'pandas.core.frame.DataFrame'>\n",
      "RangeIndex: 36 entries, 0 to 35\n",
      "Data columns (total 4 columns):\n",
      " #   Column                    Non-Null Count  Dtype   \n",
      "---  ------                    --------------  -----   \n",
      " 0   Race                      36 non-null     category\n",
      " 1   Year                      36 non-null     category\n",
      " 2   Degrees Completed         36 non-null     int64   \n",
      " 3   Percent of Total Degrees  36 non-null     float64 \n",
      "dtypes: category(2), float64(1), int64(1)\n",
      "memory usage: 1.2 KB\n"
     ]
    }
   ],
   "source": [
    "#Change Data Types. Make Race and Year categorical variables.  \n",
    "education.Race = education.Race.astype('category')\n",
    "education.Year = education.Year.astype('category')\n",
    "education.info('columns')"
   ]
  },
  {
   "cell_type": "code",
   "execution_count": 23,
   "metadata": {},
   "outputs": [
    {
     "data": {
      "text/plain": [
       "[2017, 2016, 2015, 2014, 2013, 2012]\n",
       "Categories (6, int64): [2017, 2016, 2015, 2014, 2013, 2012]"
      ]
     },
     "execution_count": 23,
     "metadata": {},
     "output_type": "execute_result"
    }
   ],
   "source": [
    "education.Year.unique()"
   ]
  },
  {
   "cell_type": "code",
   "execution_count": 24,
   "metadata": {},
   "outputs": [],
   "source": [
    "index_year = education[education.Year == 2012 ].index\n",
    "education.drop(index_year, inplace = True)"
   ]
  },
  {
   "cell_type": "code",
   "execution_count": 25,
   "metadata": {},
   "outputs": [
    {
     "data": {
      "text/plain": [
       "[2013, 2014, 2015, 2016, 2017]"
      ]
     },
     "execution_count": 25,
     "metadata": {},
     "output_type": "execute_result"
    }
   ],
   "source": [
    "sorted(education.Year.unique(), reverse = False)"
   ]
  },
  {
   "cell_type": "markdown",
   "metadata": {},
   "source": [
    "---"
   ]
  },
  {
   "cell_type": "code",
   "execution_count": 26,
   "metadata": {},
   "outputs": [],
   "source": [
    "#Create Dashboard"
   ]
  },
  {
   "cell_type": "code",
   "execution_count": 246,
   "metadata": {},
   "outputs": [],
   "source": [
    "#Edit plot functions \n",
    "\n",
    "#Lists and Dictionaries for all plots \n",
    "racelist = sorted(['Native American', 'Asian and Pacific Islander', 'Black', 'Hispanic', 'White', 'Multiracial'])\n",
    "LineColor = {'Native American':'Red', 'Asian and Pacific Islander': 'Gold', 'Black':'Black',\n",
    "             'Hispanic':'Orange', 'White': 'Pink', 'Multiracial': 'Brown' }\n",
    "LineMarker = {'Native American':'s', 'Asian and Pacific Islander': 'o', 'Black':'^',\n",
    "             'Hispanic':'s', 'White': 'o', 'Multiracial': '^' }\n",
    "\n",
    "#Kidsplot Function Edited for Subplot  \n",
    "def kidsplot():\n",
    "    for race in racelist:\n",
    "        sns.lineplot(data = singleparentkids[singleparentkids.Race == race], x = 'Year', y = 'Percent of Total Children(Single Parent Homes)',\n",
    "                     c= LineColor[race], marker = LineMarker[race], markersize = 8)\n",
    "    plt.title(\"Children in Single-Parent Homes\", fontsize = 13)\n",
    "    plt.ylabel('', fontsize = 12)\n",
    "    plt.xlabel('', fontsize = 12)\n",
    "    plt.locator_params(axis=\"x\", nbins=5)\n",
    "    plt.show\n",
    "plt.rcParams['figure.figsize'] = (5,5)\n",
    "\n",
    "#Povertyplot Function Edited for Subplot \n",
    "def povertyplot():\n",
    "    for race in racelist:\n",
    "        sns.lineplot(data = poverty[poverty.Race == race], x = 'Year', y = 'Percent of Total Poverty Population',\n",
    "                     c= LineColor[race], marker = LineMarker[race], markersize = 8 )\n",
    "    plt.title(\"Living In Poverty\", fontsize = 13)\n",
    "    plt.ylabel('', fontsize = 12)\n",
    "    plt.xlabel('', fontsize = 12)\n",
    "    plt.ylim = (0,70)\n",
    "    plt.locator_params(axis=\"x\", nbins=5)\n",
    "    plt.show\n",
    "plt.rcParams['figure.figsize'] = (5,5)\n",
    "\n",
    "#Education Plot Function Edited for Subplot\n",
    "def educationplot():\n",
    "    for race in racelist:\n",
    "        sns.lineplot(data = education[education.Race == race], x = 'Year', y = 'Percent of Total Degrees',\n",
    "                     c= LineColor[race], marker = LineMarker[race], markersize = 8 )\n",
    "    plt.title(\"Degree Completion\", fontsize = 13)\n",
    "    plt.ylabel('', fontsize = 12)\n",
    "    plt.xlabel('', fontsize = 12)\n",
    "    plt.locator_params(axis=\"x\", nbins=5)\n",
    "    plt.show\n",
    "plt.rcParams['figure.figsize'] = (5,5)\n"
   ]
  },
  {
   "cell_type": "code",
   "execution_count": 310,
   "metadata": {},
   "outputs": [
    {
     "data": {
      "image/png": "[encoded data removed]",
      "text/plain": [
       "<Figure size 1080x360 with 4 Axes>"
      ]
     },
     "metadata": {
      "needs_background": "light"
     },
     "output_type": "display_data"
    }
   ],
   "source": [
    "\n",
    "#Create Dashboard\n",
    "fig,axes= plt.subplots(1, 3, figsize = (15,5))\n",
    "plt.subplot(1,3,3)\n",
    "kidsplot()\n",
    "plt.subplot(1,3,2)\n",
    "povertyplot()\n",
    "plt.subplot(1,3,1)\n",
    "educationplot()\n",
    "\n",
    "\n",
    "#Add Labels for X and Y axes of Figure \n",
    "fig.add_subplot(111, frame_on=False)\n",
    "plt.tick_params(labelcolor=\"none\", bottom=False, left=False)\n",
    "plt.ylabel(\"Percentage of Total (%)\", fontsize = 12)\n",
    "plt.xlabel(\"Year\", fontsize = 12)\n",
    "\n",
    "# Add Title and Underline It\n",
    "underline = '\\33[4m'\n",
    "\n",
    "plt.suptitle('Racial Disparity: Education, Poverty, and Single-Parent Households (2013-2017)',  fontsize = 13, fontweight = 'bold',\n",
    "             horizontalalignment = 'center') \n",
    "\n",
    "\n",
    "#Control Spacing Between Subplots and Global Title \n",
    "#Increasing pad number increases spacing\n",
    "fig.tight_layout(pad=2,w_pad=0.5)\n",
    "\n",
    "#Add Legend\n",
    "racelist = sorted(['Native American', 'Asian and Pacific Islander', 'Black', 'Hispanic', 'White', 'Multiracial'])\n",
    "plt.figlegend(labels = racelist, prop={'size': 10}, loc = 'center', bbox_to_anchor = (0.48,0.05), ncol = 3)\n",
    "\n",
    "\n",
    "#Print Plot\n",
    "plt.show()"
   ]
  },
  {
   "cell_type": "code",
   "execution_count": 29,
   "metadata": {},
   "outputs": [
    {
     "data": {
      "text/plain": [
       "6"
      ]
     },
     "execution_count": 29,
     "metadata": {},
     "output_type": "execute_result"
    }
   ],
   "source": [
   ]
  },
  {
   "cell_type": "code",
   "execution_count": 30,
   "metadata": {},
   "outputs": [],
   "source": [
   ]
  },
  {
   "cell_type": "code",
   "execution_count": 159,
   "metadata": {},
   "outputs": [
    {
     "name": "stdout",
     "output_type": "stream",
     "text": [
      "\u001b[4mTest Underline\n"
     ]
    }
   ],
   "source": [ 
   ]
  },
  {
   "cell_type": "code",
   "execution_count": 160,
   "metadata": {},
   "outputs": [
    {
     "data": {
      "text/plain": [
       "'\\x1b[4mTest Underline'"
      ]
     },
     "execution_count": 160,
     "metadata": {},
     "output_type": "execute_result"
    }
   ],
   "source": [
   ]
  },
  {
   "cell_type": "code",
   "execution_count": null,
   "metadata": {},
   "outputs": [],
   "source": []
  }
 ],
 "metadata": {
  "kernelspec": {
   "display_name": "Python 3",
   "language": "python",
   "name": "python3"
  },
  "language_info": {
   "codemirror_mode": {
    "name": "ipython",
    "version": 3
   },
   "file_extension": ".py",
   "mimetype": "text/x-python",
   "name": "python",
   "nbconvert_exporter": "python",
   "pygments_lexer": "ipython3",
   "version": "3.8.3"
  }
 },
 "nbformat": 4,
 "nbformat_minor": 4
}
